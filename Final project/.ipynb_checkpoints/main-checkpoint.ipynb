{
  "nbformat": 4,
  "nbformat_minor": 0,
  "metadata": {
    "colab": {
      "name": "Kaggle.ipynb",
      "provenance": [],
      "collapsed_sections": [],
      "toc_visible": true
    },
    "kernelspec": {
      "name": "python3",
      "display_name": "Python 3"
    },
    "language_info": {
      "name": "python"
    },
    "widgets": {
      "application/vnd.jupyter.widget-state+json": {
        "2cecf7097f584ec7bc2d88c516bf46e7": {
          "model_module": "@jupyter-widgets/controls",
          "model_name": "HBoxModel",
          "model_module_version": "1.5.0",
          "state": {
            "_view_name": "HBoxView",
            "_dom_classes": [],
            "_model_name": "HBoxModel",
            "_view_module": "@jupyter-widgets/controls",
            "_model_module_version": "1.5.0",
            "_view_count": null,
            "_view_module_version": "1.5.0",
            "box_style": "",
            "layout": "IPY_MODEL_6e3892076bbd4b5884cdae50b3afeab6",
            "_model_module": "@jupyter-widgets/controls",
            "children": [
              "IPY_MODEL_b151683b06f843d2bb0a648e21bf8fe0",
              "IPY_MODEL_d6bd31a5a593472da81e4c14f5bf05c9",
              "IPY_MODEL_d88a35aa54384dd69396735cf83f7bec"
            ]
          }
        },
        "6e3892076bbd4b5884cdae50b3afeab6": {
          "model_module": "@jupyter-widgets/base",
          "model_name": "LayoutModel",
          "model_module_version": "1.2.0",
          "state": {
            "_view_name": "LayoutView",
            "grid_template_rows": null,
            "right": null,
            "justify_content": null,
            "_view_module": "@jupyter-widgets/base",
            "overflow": null,
            "_model_module_version": "1.2.0",
            "_view_count": null,
            "flex_flow": null,
            "width": null,
            "min_width": null,
            "border": null,
            "align_items": null,
            "bottom": null,
            "_model_module": "@jupyter-widgets/base",
            "top": null,
            "grid_column": null,
            "overflow_y": null,
            "overflow_x": null,
            "grid_auto_flow": null,
            "grid_area": null,
            "grid_template_columns": null,
            "flex": null,
            "_model_name": "LayoutModel",
            "justify_items": null,
            "grid_row": null,
            "max_height": null,
            "align_content": null,
            "visibility": null,
            "align_self": null,
            "height": null,
            "min_height": null,
            "padding": null,
            "grid_auto_rows": null,
            "grid_gap": null,
            "max_width": null,
            "order": null,
            "_view_module_version": "1.2.0",
            "grid_template_areas": null,
            "object_position": null,
            "object_fit": null,
            "grid_auto_columns": null,
            "margin": null,
            "display": null,
            "left": null
          }
        },
        "b151683b06f843d2bb0a648e21bf8fe0": {
          "model_module": "@jupyter-widgets/controls",
          "model_name": "HTMLModel",
          "model_module_version": "1.5.0",
          "state": {
            "_view_name": "HTMLView",
            "style": "IPY_MODEL_ef275d2f18de44418ff36db865f9c72c",
            "_dom_classes": [],
            "description": "",
            "_model_name": "HTMLModel",
            "placeholder": "​",
            "_view_module": "@jupyter-widgets/controls",
            "_model_module_version": "1.5.0",
            "value": "100%",
            "_view_count": null,
            "_view_module_version": "1.5.0",
            "description_tooltip": null,
            "_model_module": "@jupyter-widgets/controls",
            "layout": "IPY_MODEL_9e65e7a7e9824fad93e06a89359a473d"
          }
        },
        "d6bd31a5a593472da81e4c14f5bf05c9": {
          "model_module": "@jupyter-widgets/controls",
          "model_name": "FloatProgressModel",
          "model_module_version": "1.5.0",
          "state": {
            "_view_name": "ProgressView",
            "style": "IPY_MODEL_cea3592d6d414a689e055c7aaedcd93e",
            "_dom_classes": [],
            "description": "",
            "_model_name": "FloatProgressModel",
            "bar_style": "success",
            "max": 6,
            "_view_module": "@jupyter-widgets/controls",
            "_model_module_version": "1.5.0",
            "value": 6,
            "_view_count": null,
            "_view_module_version": "1.5.0",
            "orientation": "horizontal",
            "min": 0,
            "description_tooltip": null,
            "_model_module": "@jupyter-widgets/controls",
            "layout": "IPY_MODEL_2c6781b318f148a1aeab23a6a2d7d19f"
          }
        },
        "d88a35aa54384dd69396735cf83f7bec": {
          "model_module": "@jupyter-widgets/controls",
          "model_name": "HTMLModel",
          "model_module_version": "1.5.0",
          "state": {
            "_view_name": "HTMLView",
            "style": "IPY_MODEL_0dca78bdad2a4c05af6c5f439beafaae",
            "_dom_classes": [],
            "description": "",
            "_model_name": "HTMLModel",
            "placeholder": "​",
            "_view_module": "@jupyter-widgets/controls",
            "_model_module_version": "1.5.0",
            "value": " 6/6 [00:49&lt;00:00,  8.64s/it]",
            "_view_count": null,
            "_view_module_version": "1.5.0",
            "description_tooltip": null,
            "_model_module": "@jupyter-widgets/controls",
            "layout": "IPY_MODEL_cb106938a847453da28d2d9fe7716672"
          }
        },
        "ef275d2f18de44418ff36db865f9c72c": {
          "model_module": "@jupyter-widgets/controls",
          "model_name": "DescriptionStyleModel",
          "model_module_version": "1.5.0",
          "state": {
            "_view_name": "StyleView",
            "_model_name": "DescriptionStyleModel",
            "description_width": "",
            "_view_module": "@jupyter-widgets/base",
            "_model_module_version": "1.5.0",
            "_view_count": null,
            "_view_module_version": "1.2.0",
            "_model_module": "@jupyter-widgets/controls"
          }
        },
        "9e65e7a7e9824fad93e06a89359a473d": {
          "model_module": "@jupyter-widgets/base",
          "model_name": "LayoutModel",
          "model_module_version": "1.2.0",
          "state": {
            "_view_name": "LayoutView",
            "grid_template_rows": null,
            "right": null,
            "justify_content": null,
            "_view_module": "@jupyter-widgets/base",
            "overflow": null,
            "_model_module_version": "1.2.0",
            "_view_count": null,
            "flex_flow": null,
            "width": null,
            "min_width": null,
            "border": null,
            "align_items": null,
            "bottom": null,
            "_model_module": "@jupyter-widgets/base",
            "top": null,
            "grid_column": null,
            "overflow_y": null,
            "overflow_x": null,
            "grid_auto_flow": null,
            "grid_area": null,
            "grid_template_columns": null,
            "flex": null,
            "_model_name": "LayoutModel",
            "justify_items": null,
            "grid_row": null,
            "max_height": null,
            "align_content": null,
            "visibility": null,
            "align_self": null,
            "height": null,
            "min_height": null,
            "padding": null,
            "grid_auto_rows": null,
            "grid_gap": null,
            "max_width": null,
            "order": null,
            "_view_module_version": "1.2.0",
            "grid_template_areas": null,
            "object_position": null,
            "object_fit": null,
            "grid_auto_columns": null,
            "margin": null,
            "display": null,
            "left": null
          }
        },
        "cea3592d6d414a689e055c7aaedcd93e": {
          "model_module": "@jupyter-widgets/controls",
          "model_name": "ProgressStyleModel",
          "model_module_version": "1.5.0",
          "state": {
            "_view_name": "StyleView",
            "_model_name": "ProgressStyleModel",
            "description_width": "",
            "_view_module": "@jupyter-widgets/base",
            "_model_module_version": "1.5.0",
            "_view_count": null,
            "_view_module_version": "1.2.0",
            "bar_color": null,
            "_model_module": "@jupyter-widgets/controls"
          }
        },
        "2c6781b318f148a1aeab23a6a2d7d19f": {
          "model_module": "@jupyter-widgets/base",
          "model_name": "LayoutModel",
          "model_module_version": "1.2.0",
          "state": {
            "_view_name": "LayoutView",
            "grid_template_rows": null,
            "right": null,
            "justify_content": null,
            "_view_module": "@jupyter-widgets/base",
            "overflow": null,
            "_model_module_version": "1.2.0",
            "_view_count": null,
            "flex_flow": null,
            "width": null,
            "min_width": null,
            "border": null,
            "align_items": null,
            "bottom": null,
            "_model_module": "@jupyter-widgets/base",
            "top": null,
            "grid_column": null,
            "overflow_y": null,
            "overflow_x": null,
            "grid_auto_flow": null,
            "grid_area": null,
            "grid_template_columns": null,
            "flex": null,
            "_model_name": "LayoutModel",
            "justify_items": null,
            "grid_row": null,
            "max_height": null,
            "align_content": null,
            "visibility": null,
            "align_self": null,
            "height": null,
            "min_height": null,
            "padding": null,
            "grid_auto_rows": null,
            "grid_gap": null,
            "max_width": null,
            "order": null,
            "_view_module_version": "1.2.0",
            "grid_template_areas": null,
            "object_position": null,
            "object_fit": null,
            "grid_auto_columns": null,
            "margin": null,
            "display": null,
            "left": null
          }
        },
        "0dca78bdad2a4c05af6c5f439beafaae": {
          "model_module": "@jupyter-widgets/controls",
          "model_name": "DescriptionStyleModel",
          "model_module_version": "1.5.0",
          "state": {
            "_view_name": "StyleView",
            "_model_name": "DescriptionStyleModel",
            "description_width": "",
            "_view_module": "@jupyter-widgets/base",
            "_model_module_version": "1.5.0",
            "_view_count": null,
            "_view_module_version": "1.2.0",
            "_model_module": "@jupyter-widgets/controls"
          }
        },
        "cb106938a847453da28d2d9fe7716672": {
          "model_module": "@jupyter-widgets/base",
          "model_name": "LayoutModel",
          "model_module_version": "1.2.0",
          "state": {
            "_view_name": "LayoutView",
            "grid_template_rows": null,
            "right": null,
            "justify_content": null,
            "_view_module": "@jupyter-widgets/base",
            "overflow": null,
            "_model_module_version": "1.2.0",
            "_view_count": null,
            "flex_flow": null,
            "width": null,
            "min_width": null,
            "border": null,
            "align_items": null,
            "bottom": null,
            "_model_module": "@jupyter-widgets/base",
            "top": null,
            "grid_column": null,
            "overflow_y": null,
            "overflow_x": null,
            "grid_auto_flow": null,
            "grid_area": null,
            "grid_template_columns": null,
            "flex": null,
            "_model_name": "LayoutModel",
            "justify_items": null,
            "grid_row": null,
            "max_height": null,
            "align_content": null,
            "visibility": null,
            "align_self": null,
            "height": null,
            "min_height": null,
            "padding": null,
            "grid_auto_rows": null,
            "grid_gap": null,
            "max_width": null,
            "order": null,
            "_view_module_version": "1.2.0",
            "grid_template_areas": null,
            "object_position": null,
            "object_fit": null,
            "grid_auto_columns": null,
            "margin": null,
            "display": null,
            "left": null
          }
        }
      }
    }
  },
  "cells": [
    {
      "cell_type": "markdown",
      "metadata": {
        "id": "Ieqrqhu4fqVn"
      },
      "source": [
        "# Import"
      ]
    },
    {
      "cell_type": "code",
      "metadata": {
        "colab": {
          "base_uri": "https://localhost:8080/"
        },
        "id": "_UDwQBABfWQp",
        "outputId": "c9ef4774-7d98-41c7-937f-c83487d08335"
      },
      "source": [
        "from google.colab import drive\n",
        "drive.mount('/content/drive')"
      ],
      "execution_count": 1,
      "outputs": [
        {
          "output_type": "stream",
          "name": "stdout",
          "text": [
            "Drive already mounted at /content/drive; to attempt to forcibly remount, call drive.mount(\"/content/drive\", force_remount=True).\n"
          ]
        }
      ]
    },
    {
      "cell_type": "code",
      "metadata": {
        "id": "jaATNVj0fd6G"
      },
      "source": [
        "import pandas as pd\n",
        "import numpy as np\n",
        "import matplotlib.pyplot as plt\n",
        "import seaborn as sns\n",
        "import gc\n",
        "%matplotlib inline \n",
        "\n",
        "pd.set_option('display.max_columns', 50)\n",
        "\n",
        "from sklearn import feature_extraction\n",
        "from sklearn.linear_model import LinearRegression\n",
        "from sklearn.metrics import r2_score\n",
        "  \n",
        "import lightgbm as lgb\n",
        "from sklearn.linear_model import LinearRegression\n",
        "from sklearn.metrics import r2_score\n",
        "from tqdm import tqdm_notebook\n",
        "\n",
        "from itertools import product"
      ],
      "execution_count": 2,
      "outputs": []
    },
    {
      "cell_type": "code",
      "metadata": {
        "id": "SEJ9UkQIrM7O"
      },
      "source": [
        "def downcast_dtypes(df):\n",
        "    # Select columns to downcast\n",
        "    float_cols = [c for c in df if df[c].dtype == \"float64\"]\n",
        "    int_cols =   [c for c in df if df[c].dtype == \"int64\"]\n",
        "    \n",
        "    # Downcast\n",
        "    df[float_cols] = df[float_cols].astype(np.float32)\n",
        "    df[int_cols]   = df[int_cols].astype(np.int32)\n",
        "    \n",
        "    return df"
      ],
      "execution_count": 3,
      "outputs": []
    },
    {
      "cell_type": "markdown",
      "metadata": {
        "id": "MGLNnQqoft27"
      },
      "source": [
        "# Read Data"
      ]
    },
    {
      "cell_type": "code",
      "metadata": {
        "id": "G7FCVyvFftVa"
      },
      "source": [
        "shops = pd.read_csv('/content/drive/MyDrive/Code/data/shops.csv')\n",
        "items = pd.read_csv('/content/drive/MyDrive/Code/data/items.csv')\n",
        "item_cats = pd.read_csv('/content/drive/MyDrive/Code/data/item_categories.csv')\n",
        "sales = pd.read_csv('/content/drive/MyDrive/Code/data/sales_train.csv')\n",
        "test = pd.read_csv('/content/drive/MyDrive/Code/data/test.csv')"
      ],
      "execution_count": 5,
      "outputs": []
    },
    {
      "cell_type": "code",
      "metadata": {
        "colab": {
          "base_uri": "https://localhost:8080/",
          "height": 206
        },
        "id": "hyC2Qo_JgjPS",
        "outputId": "4bbff2d2-66ef-4576-b69a-a18e6e7c5591"
      },
      "source": [
        "shops.head()"
      ],
      "execution_count": 6,
      "outputs": [
        {
          "output_type": "execute_result",
          "data": {
            "text/html": [
              "<div>\n",
              "<style scoped>\n",
              "    .dataframe tbody tr th:only-of-type {\n",
              "        vertical-align: middle;\n",
              "    }\n",
              "\n",
              "    .dataframe tbody tr th {\n",
              "        vertical-align: top;\n",
              "    }\n",
              "\n",
              "    .dataframe thead th {\n",
              "        text-align: right;\n",
              "    }\n",
              "</style>\n",
              "<table border=\"1\" class=\"dataframe\">\n",
              "  <thead>\n",
              "    <tr style=\"text-align: right;\">\n",
              "      <th></th>\n",
              "      <th>shop_name</th>\n",
              "      <th>shop_id</th>\n",
              "    </tr>\n",
              "  </thead>\n",
              "  <tbody>\n",
              "    <tr>\n",
              "      <th>0</th>\n",
              "      <td>!Якутск Орджоникидзе, 56 фран</td>\n",
              "      <td>0</td>\n",
              "    </tr>\n",
              "    <tr>\n",
              "      <th>1</th>\n",
              "      <td>!Якутск ТЦ \"Центральный\" фран</td>\n",
              "      <td>1</td>\n",
              "    </tr>\n",
              "    <tr>\n",
              "      <th>2</th>\n",
              "      <td>Адыгея ТЦ \"Мега\"</td>\n",
              "      <td>2</td>\n",
              "    </tr>\n",
              "    <tr>\n",
              "      <th>3</th>\n",
              "      <td>Балашиха ТРК \"Октябрь-Киномир\"</td>\n",
              "      <td>3</td>\n",
              "    </tr>\n",
              "    <tr>\n",
              "      <th>4</th>\n",
              "      <td>Волжский ТЦ \"Волга Молл\"</td>\n",
              "      <td>4</td>\n",
              "    </tr>\n",
              "  </tbody>\n",
              "</table>\n",
              "</div>"
            ],
            "text/plain": [
              "                        shop_name  shop_id\n",
              "0   !Якутск Орджоникидзе, 56 фран        0\n",
              "1   !Якутск ТЦ \"Центральный\" фран        1\n",
              "2                Адыгея ТЦ \"Мега\"        2\n",
              "3  Балашиха ТРК \"Октябрь-Киномир\"        3\n",
              "4        Волжский ТЦ \"Волга Молл\"        4"
            ]
          },
          "metadata": {},
          "execution_count": 6
        }
      ]
    },
    {
      "cell_type": "code",
      "metadata": {
        "id": "YkJFkvdWrEGP",
        "colab": {
          "base_uri": "https://localhost:8080/",
          "height": 206
        },
        "outputId": "21871e72-6145-44a3-f6f1-7520de60f835"
      },
      "source": [
        "items.head()"
      ],
      "execution_count": 7,
      "outputs": [
        {
          "output_type": "execute_result",
          "data": {
            "text/html": [
              "<div>\n",
              "<style scoped>\n",
              "    .dataframe tbody tr th:only-of-type {\n",
              "        vertical-align: middle;\n",
              "    }\n",
              "\n",
              "    .dataframe tbody tr th {\n",
              "        vertical-align: top;\n",
              "    }\n",
              "\n",
              "    .dataframe thead th {\n",
              "        text-align: right;\n",
              "    }\n",
              "</style>\n",
              "<table border=\"1\" class=\"dataframe\">\n",
              "  <thead>\n",
              "    <tr style=\"text-align: right;\">\n",
              "      <th></th>\n",
              "      <th>item_name</th>\n",
              "      <th>item_id</th>\n",
              "      <th>item_category_id</th>\n",
              "    </tr>\n",
              "  </thead>\n",
              "  <tbody>\n",
              "    <tr>\n",
              "      <th>0</th>\n",
              "      <td>! ВО ВЛАСТИ НАВАЖДЕНИЯ (ПЛАСТ.)         D</td>\n",
              "      <td>0</td>\n",
              "      <td>40</td>\n",
              "    </tr>\n",
              "    <tr>\n",
              "      <th>1</th>\n",
              "      <td>!ABBYY FineReader 12 Professional Edition Full...</td>\n",
              "      <td>1</td>\n",
              "      <td>76</td>\n",
              "    </tr>\n",
              "    <tr>\n",
              "      <th>2</th>\n",
              "      <td>***В ЛУЧАХ СЛАВЫ   (UNV)                    D</td>\n",
              "      <td>2</td>\n",
              "      <td>40</td>\n",
              "    </tr>\n",
              "    <tr>\n",
              "      <th>3</th>\n",
              "      <td>***ГОЛУБАЯ ВОЛНА  (Univ)                      D</td>\n",
              "      <td>3</td>\n",
              "      <td>40</td>\n",
              "    </tr>\n",
              "    <tr>\n",
              "      <th>4</th>\n",
              "      <td>***КОРОБКА (СТЕКЛО)                       D</td>\n",
              "      <td>4</td>\n",
              "      <td>40</td>\n",
              "    </tr>\n",
              "  </tbody>\n",
              "</table>\n",
              "</div>"
            ],
            "text/plain": [
              "                                           item_name  item_id  \\\n",
              "0          ! ВО ВЛАСТИ НАВАЖДЕНИЯ (ПЛАСТ.)         D        0   \n",
              "1  !ABBYY FineReader 12 Professional Edition Full...        1   \n",
              "2      ***В ЛУЧАХ СЛАВЫ   (UNV)                    D        2   \n",
              "3    ***ГОЛУБАЯ ВОЛНА  (Univ)                      D        3   \n",
              "4        ***КОРОБКА (СТЕКЛО)                       D        4   \n",
              "\n",
              "   item_category_id  \n",
              "0                40  \n",
              "1                76  \n",
              "2                40  \n",
              "3                40  \n",
              "4                40  "
            ]
          },
          "metadata": {},
          "execution_count": 7
        }
      ]
    },
    {
      "cell_type": "code",
      "metadata": {
        "colab": {
          "base_uri": "https://localhost:8080/",
          "height": 206
        },
        "id": "aE2-x7sCMO8L",
        "outputId": "4b99fd4b-e68d-4a7f-bc73-eb0a8644d05b"
      },
      "source": [
        "item_cats.head()"
      ],
      "execution_count": 8,
      "outputs": [
        {
          "output_type": "execute_result",
          "data": {
            "text/html": [
              "<div>\n",
              "<style scoped>\n",
              "    .dataframe tbody tr th:only-of-type {\n",
              "        vertical-align: middle;\n",
              "    }\n",
              "\n",
              "    .dataframe tbody tr th {\n",
              "        vertical-align: top;\n",
              "    }\n",
              "\n",
              "    .dataframe thead th {\n",
              "        text-align: right;\n",
              "    }\n",
              "</style>\n",
              "<table border=\"1\" class=\"dataframe\">\n",
              "  <thead>\n",
              "    <tr style=\"text-align: right;\">\n",
              "      <th></th>\n",
              "      <th>item_category_name</th>\n",
              "      <th>item_category_id</th>\n",
              "    </tr>\n",
              "  </thead>\n",
              "  <tbody>\n",
              "    <tr>\n",
              "      <th>0</th>\n",
              "      <td>PC - Гарнитуры/Наушники</td>\n",
              "      <td>0</td>\n",
              "    </tr>\n",
              "    <tr>\n",
              "      <th>1</th>\n",
              "      <td>Аксессуары - PS2</td>\n",
              "      <td>1</td>\n",
              "    </tr>\n",
              "    <tr>\n",
              "      <th>2</th>\n",
              "      <td>Аксессуары - PS3</td>\n",
              "      <td>2</td>\n",
              "    </tr>\n",
              "    <tr>\n",
              "      <th>3</th>\n",
              "      <td>Аксессуары - PS4</td>\n",
              "      <td>3</td>\n",
              "    </tr>\n",
              "    <tr>\n",
              "      <th>4</th>\n",
              "      <td>Аксессуары - PSP</td>\n",
              "      <td>4</td>\n",
              "    </tr>\n",
              "  </tbody>\n",
              "</table>\n",
              "</div>"
            ],
            "text/plain": [
              "        item_category_name  item_category_id\n",
              "0  PC - Гарнитуры/Наушники                 0\n",
              "1         Аксессуары - PS2                 1\n",
              "2         Аксессуары - PS3                 2\n",
              "3         Аксессуары - PS4                 3\n",
              "4         Аксессуары - PSP                 4"
            ]
          },
          "metadata": {},
          "execution_count": 8
        }
      ]
    },
    {
      "cell_type": "code",
      "metadata": {
        "colab": {
          "base_uri": "https://localhost:8080/",
          "height": 206
        },
        "id": "A2bXDOixMVM5",
        "outputId": "e6a6f803-4c6b-418c-ab1c-b88b50b2709a"
      },
      "source": [
        "sales.head()"
      ],
      "execution_count": 9,
      "outputs": [
        {
          "output_type": "execute_result",
          "data": {
            "text/html": [
              "<div>\n",
              "<style scoped>\n",
              "    .dataframe tbody tr th:only-of-type {\n",
              "        vertical-align: middle;\n",
              "    }\n",
              "\n",
              "    .dataframe tbody tr th {\n",
              "        vertical-align: top;\n",
              "    }\n",
              "\n",
              "    .dataframe thead th {\n",
              "        text-align: right;\n",
              "    }\n",
              "</style>\n",
              "<table border=\"1\" class=\"dataframe\">\n",
              "  <thead>\n",
              "    <tr style=\"text-align: right;\">\n",
              "      <th></th>\n",
              "      <th>date</th>\n",
              "      <th>date_block_num</th>\n",
              "      <th>shop_id</th>\n",
              "      <th>item_id</th>\n",
              "      <th>item_price</th>\n",
              "      <th>item_cnt_day</th>\n",
              "    </tr>\n",
              "  </thead>\n",
              "  <tbody>\n",
              "    <tr>\n",
              "      <th>0</th>\n",
              "      <td>02.01.2013</td>\n",
              "      <td>0</td>\n",
              "      <td>59</td>\n",
              "      <td>22154</td>\n",
              "      <td>999.00</td>\n",
              "      <td>1.0</td>\n",
              "    </tr>\n",
              "    <tr>\n",
              "      <th>1</th>\n",
              "      <td>03.01.2013</td>\n",
              "      <td>0</td>\n",
              "      <td>25</td>\n",
              "      <td>2552</td>\n",
              "      <td>899.00</td>\n",
              "      <td>1.0</td>\n",
              "    </tr>\n",
              "    <tr>\n",
              "      <th>2</th>\n",
              "      <td>05.01.2013</td>\n",
              "      <td>0</td>\n",
              "      <td>25</td>\n",
              "      <td>2552</td>\n",
              "      <td>899.00</td>\n",
              "      <td>-1.0</td>\n",
              "    </tr>\n",
              "    <tr>\n",
              "      <th>3</th>\n",
              "      <td>06.01.2013</td>\n",
              "      <td>0</td>\n",
              "      <td>25</td>\n",
              "      <td>2554</td>\n",
              "      <td>1709.05</td>\n",
              "      <td>1.0</td>\n",
              "    </tr>\n",
              "    <tr>\n",
              "      <th>4</th>\n",
              "      <td>15.01.2013</td>\n",
              "      <td>0</td>\n",
              "      <td>25</td>\n",
              "      <td>2555</td>\n",
              "      <td>1099.00</td>\n",
              "      <td>1.0</td>\n",
              "    </tr>\n",
              "  </tbody>\n",
              "</table>\n",
              "</div>"
            ],
            "text/plain": [
              "         date  date_block_num  shop_id  item_id  item_price  item_cnt_day\n",
              "0  02.01.2013               0       59    22154      999.00           1.0\n",
              "1  03.01.2013               0       25     2552      899.00           1.0\n",
              "2  05.01.2013               0       25     2552      899.00          -1.0\n",
              "3  06.01.2013               0       25     2554     1709.05           1.0\n",
              "4  15.01.2013               0       25     2555     1099.00           1.0"
            ]
          },
          "metadata": {},
          "execution_count": 9
        }
      ]
    },
    {
      "cell_type": "code",
      "metadata": {
        "colab": {
          "base_uri": "https://localhost:8080/",
          "height": 206
        },
        "id": "3bLp9TwKMYxP",
        "outputId": "10296d5f-f51a-49d9-dbd6-6b0e2e27d567"
      },
      "source": [
        "test.head()"
      ],
      "execution_count": 10,
      "outputs": [
        {
          "output_type": "execute_result",
          "data": {
            "text/html": [
              "<div>\n",
              "<style scoped>\n",
              "    .dataframe tbody tr th:only-of-type {\n",
              "        vertical-align: middle;\n",
              "    }\n",
              "\n",
              "    .dataframe tbody tr th {\n",
              "        vertical-align: top;\n",
              "    }\n",
              "\n",
              "    .dataframe thead th {\n",
              "        text-align: right;\n",
              "    }\n",
              "</style>\n",
              "<table border=\"1\" class=\"dataframe\">\n",
              "  <thead>\n",
              "    <tr style=\"text-align: right;\">\n",
              "      <th></th>\n",
              "      <th>ID</th>\n",
              "      <th>shop_id</th>\n",
              "      <th>item_id</th>\n",
              "    </tr>\n",
              "  </thead>\n",
              "  <tbody>\n",
              "    <tr>\n",
              "      <th>0</th>\n",
              "      <td>0</td>\n",
              "      <td>5</td>\n",
              "      <td>5037</td>\n",
              "    </tr>\n",
              "    <tr>\n",
              "      <th>1</th>\n",
              "      <td>1</td>\n",
              "      <td>5</td>\n",
              "      <td>5320</td>\n",
              "    </tr>\n",
              "    <tr>\n",
              "      <th>2</th>\n",
              "      <td>2</td>\n",
              "      <td>5</td>\n",
              "      <td>5233</td>\n",
              "    </tr>\n",
              "    <tr>\n",
              "      <th>3</th>\n",
              "      <td>3</td>\n",
              "      <td>5</td>\n",
              "      <td>5232</td>\n",
              "    </tr>\n",
              "    <tr>\n",
              "      <th>4</th>\n",
              "      <td>4</td>\n",
              "      <td>5</td>\n",
              "      <td>5268</td>\n",
              "    </tr>\n",
              "  </tbody>\n",
              "</table>\n",
              "</div>"
            ],
            "text/plain": [
              "   ID  shop_id  item_id\n",
              "0   0        5     5037\n",
              "1   1        5     5320\n",
              "2   2        5     5233\n",
              "3   3        5     5232\n",
              "4   4        5     5268"
            ]
          },
          "metadata": {},
          "execution_count": 10
        }
      ]
    },
    {
      "cell_type": "markdown",
      "metadata": {
        "id": "sfyQmIqWg9Pw"
      },
      "source": [
        "# EDA"
      ]
    },
    {
      "cell_type": "code",
      "metadata": {
        "colab": {
          "base_uri": "https://localhost:8080/"
        },
        "id": "h-j-NpqKMhCR",
        "outputId": "ee3086eb-4341-47e5-cc3c-ff564ad14ebc"
      },
      "source": [
        "len(shops), len(items), len(item_cats), len(sales), len(test)"
      ],
      "execution_count": 13,
      "outputs": [
        {
          "output_type": "execute_result",
          "data": {
            "text/plain": [
              "(60, 22170, 84, 2935849, 214200)"
            ]
          },
          "metadata": {},
          "execution_count": 13
        }
      ]
    },
    {
      "cell_type": "code",
      "metadata": {
        "colab": {
          "base_uri": "https://localhost:8080/",
          "height": 611
        },
        "id": "Nbm7SbUZM0DH",
        "outputId": "d78fa8f0-c5dd-4089-d6a6-6596dfdfcc45"
      },
      "source": [
        "fig=plt.figure(figsize=(15,10))\n",
        "items.item_category_id.value_counts().plot.bar()"
      ],
      "execution_count": 27,
      "outputs": [
        {
          "output_type": "execute_result",
          "data": {
            "text/plain": [
              "<matplotlib.axes._subplots.AxesSubplot at 0x7f4b5b780110>"
            ]
          },
          "metadata": {},
          "execution_count": 27
        },
        {
          "output_type": "display_data",
          "data": {
            "image/png": "[encoded data removed]",
            "text/plain": [
              "<Figure size 1080x720 with 1 Axes>"
            ]
          },
          "metadata": {
            "needs_background": "light"
          }
        }
      ]
    },
    {
      "cell_type": "code",
      "metadata": {
        "colab": {
          "base_uri": "https://localhost:8080/",
          "height": 363
        },
        "id": "CWRAZzDlOUJl",
        "outputId": "d075c20b-00f6-4661-a73a-e15579d22de9"
      },
      "source": [
        "items.merge(item_cats).head(10)"
      ],
      "execution_count": 31,
      "outputs": [
        {
          "output_type": "execute_result",
          "data": {
            "text/html": [
              "<div>\n",
              "<style scoped>\n",
              "    .dataframe tbody tr th:only-of-type {\n",
              "        vertical-align: middle;\n",
              "    }\n",
              "\n",
              "    .dataframe tbody tr th {\n",
              "        vertical-align: top;\n",
              "    }\n",
              "\n",
              "    .dataframe thead th {\n",
              "        text-align: right;\n",
              "    }\n",
              "</style>\n",
              "<table border=\"1\" class=\"dataframe\">\n",
              "  <thead>\n",
              "    <tr style=\"text-align: right;\">\n",
              "      <th></th>\n",
              "      <th>item_name</th>\n",
              "      <th>item_id</th>\n",
              "      <th>item_category_id</th>\n",
              "      <th>item_category_name</th>\n",
              "    </tr>\n",
              "  </thead>\n",
              "  <tbody>\n",
              "    <tr>\n",
              "      <th>0</th>\n",
              "      <td>! ВО ВЛАСТИ НАВАЖДЕНИЯ (ПЛАСТ.)         D</td>\n",
              "      <td>0</td>\n",
              "      <td>40</td>\n",
              "      <td>Кино - DVD</td>\n",
              "    </tr>\n",
              "    <tr>\n",
              "      <th>1</th>\n",
              "      <td>***В ЛУЧАХ СЛАВЫ   (UNV)                    D</td>\n",
              "      <td>2</td>\n",
              "      <td>40</td>\n",
              "      <td>Кино - DVD</td>\n",
              "    </tr>\n",
              "    <tr>\n",
              "      <th>2</th>\n",
              "      <td>***ГОЛУБАЯ ВОЛНА  (Univ)                      D</td>\n",
              "      <td>3</td>\n",
              "      <td>40</td>\n",
              "      <td>Кино - DVD</td>\n",
              "    </tr>\n",
              "    <tr>\n",
              "      <th>3</th>\n",
              "      <td>***КОРОБКА (СТЕКЛО)                       D</td>\n",
              "      <td>4</td>\n",
              "      <td>40</td>\n",
              "      <td>Кино - DVD</td>\n",
              "    </tr>\n",
              "    <tr>\n",
              "      <th>4</th>\n",
              "      <td>***НОВЫЕ АМЕРИКАНСКИЕ ГРАФФИТИ  (UNI)         ...</td>\n",
              "      <td>5</td>\n",
              "      <td>40</td>\n",
              "      <td>Кино - DVD</td>\n",
              "    </tr>\n",
              "    <tr>\n",
              "      <th>5</th>\n",
              "      <td>***УДАР ПО ВОРОТАМ (UNI)               D</td>\n",
              "      <td>6</td>\n",
              "      <td>40</td>\n",
              "      <td>Кино - DVD</td>\n",
              "    </tr>\n",
              "    <tr>\n",
              "      <th>6</th>\n",
              "      <td>***УДАР ПО ВОРОТАМ-2 (UNI)               D</td>\n",
              "      <td>7</td>\n",
              "      <td>40</td>\n",
              "      <td>Кино - DVD</td>\n",
              "    </tr>\n",
              "    <tr>\n",
              "      <th>7</th>\n",
              "      <td>***ЧАЙ С МУССОЛИНИ                     D</td>\n",
              "      <td>8</td>\n",
              "      <td>40</td>\n",
              "      <td>Кино - DVD</td>\n",
              "    </tr>\n",
              "    <tr>\n",
              "      <th>8</th>\n",
              "      <td>***ШУГАРЛЭНДСКИЙ ЭКСПРЕСС (UNI)             D</td>\n",
              "      <td>9</td>\n",
              "      <td>40</td>\n",
              "      <td>Кино - DVD</td>\n",
              "    </tr>\n",
              "    <tr>\n",
              "      <th>9</th>\n",
              "      <td>*ЗА ГРАНЬЮ СМЕРТИ                       D</td>\n",
              "      <td>10</td>\n",
              "      <td>40</td>\n",
              "      <td>Кино - DVD</td>\n",
              "    </tr>\n",
              "  </tbody>\n",
              "</table>\n",
              "</div>"
            ],
            "text/plain": [
              "                                           item_name  item_id  \\\n",
              "0          ! ВО ВЛАСТИ НАВАЖДЕНИЯ (ПЛАСТ.)         D        0   \n",
              "1      ***В ЛУЧАХ СЛАВЫ   (UNV)                    D        2   \n",
              "2    ***ГОЛУБАЯ ВОЛНА  (Univ)                      D        3   \n",
              "3        ***КОРОБКА (СТЕКЛО)                       D        4   \n",
              "4  ***НОВЫЕ АМЕРИКАНСКИЕ ГРАФФИТИ  (UNI)         ...        5   \n",
              "5           ***УДАР ПО ВОРОТАМ (UNI)               D        6   \n",
              "6         ***УДАР ПО ВОРОТАМ-2 (UNI)               D        7   \n",
              "7           ***ЧАЙ С МУССОЛИНИ                     D        8   \n",
              "8      ***ШУГАРЛЭНДСКИЙ ЭКСПРЕСС (UNI)             D        9   \n",
              "9          *ЗА ГРАНЬЮ СМЕРТИ                       D       10   \n",
              "\n",
              "   item_category_id item_category_name  \n",
              "0                40         Кино - DVD  \n",
              "1                40         Кино - DVD  \n",
              "2                40         Кино - DVD  \n",
              "3                40         Кино - DVD  \n",
              "4                40         Кино - DVD  \n",
              "5                40         Кино - DVD  \n",
              "6                40         Кино - DVD  \n",
              "7                40         Кино - DVD  \n",
              "8                40         Кино - DVD  \n",
              "9                40         Кино - DVD  "
            ]
          },
          "metadata": {},
          "execution_count": 31
        }
      ]
    },
    {
      "cell_type": "code",
      "metadata": {
        "colab": {
          "base_uri": "https://localhost:8080/"
        },
        "id": "8Y8ZhngfPAtt",
        "outputId": "3475fb22-ac62-4fd3-c3f2-e96c1e320afa"
      },
      "source": [
        "sales.item_price.describe([x/10 for x in range(10)] + [0.01, 0.05, 0.95, 0.99])"
      ],
      "execution_count": 34,
      "outputs": [
        {
          "output_type": "execute_result",
          "data": {
            "text/plain": [
              "count    2.935849e+06\n",
              "mean     8.908532e+02\n",
              "std      1.729800e+03\n",
              "min     -1.000000e+00\n",
              "0%      -1.000000e+00\n",
              "1%       5.000000e+00\n",
              "5%       9.900000e+01\n",
              "10%      1.490000e+02\n",
              "20%      1.990000e+02\n",
              "30%      2.990000e+02\n",
              "40%      3.490000e+02\n",
              "50%      3.990000e+02\n",
              "60%      5.990000e+02\n",
              "70%      7.990000e+02\n",
              "80%      1.199000e+03\n",
              "90%      1.999000e+03\n",
              "95%      2.690000e+03\n",
              "99%      5.999000e+03\n",
              "max      3.079800e+05\n",
              "Name: item_price, dtype: float64"
            ]
          },
          "metadata": {},
          "execution_count": 34
        }
      ]
    },
    {
      "cell_type": "code",
      "metadata": {
        "colab": {
          "base_uri": "https://localhost:8080/"
        },
        "id": "MFGAoYyCPMOW",
        "outputId": "1a87183a-7c19-477e-fede-a264c4be2680"
      },
      "source": [
        "sales.item_cnt_day.describe([x/10 for x in range(10)] + [0.01, 0.05, 0.95, 0.99])"
      ],
      "execution_count": 35,
      "outputs": [
        {
          "output_type": "execute_result",
          "data": {
            "text/plain": [
              "count    2.935849e+06\n",
              "mean     1.242641e+00\n",
              "std      2.618834e+00\n",
              "min     -2.200000e+01\n",
              "0%      -2.200000e+01\n",
              "1%       1.000000e+00\n",
              "5%       1.000000e+00\n",
              "10%      1.000000e+00\n",
              "20%      1.000000e+00\n",
              "30%      1.000000e+00\n",
              "40%      1.000000e+00\n",
              "50%      1.000000e+00\n",
              "60%      1.000000e+00\n",
              "70%      1.000000e+00\n",
              "80%      1.000000e+00\n",
              "90%      2.000000e+00\n",
              "95%      2.000000e+00\n",
              "99%      5.000000e+00\n",
              "max      2.169000e+03\n",
              "Name: item_cnt_day, dtype: float64"
            ]
          },
          "metadata": {},
          "execution_count": 35
        }
      ]
    },
    {
      "cell_type": "code",
      "metadata": {
        "id": "4pSurSC6g9_v",
        "colab": {
          "base_uri": "https://localhost:8080/",
          "height": 560
        },
        "outputId": "dc53273f-5e58-470e-8888-6debd851fa81"
      },
      "source": [
        "plt.figure(figsize=(10,4))\n",
        "plt.xlim(sales.item_cnt_day.min(), sales.item_cnt_day.max()*1.1)\n",
        "sns.boxplot(x=sales.item_cnt_day)\n",
        "\n",
        "plt.figure(figsize=(10,4))\n",
        "plt.xlim(sales.item_price.min(), sales.item_price.max()*1.1)\n",
        "sns.boxplot(x=sales.item_price)"
      ],
      "execution_count": 17,
      "outputs": [
        {
          "output_type": "execute_result",
          "data": {
            "text/plain": [
              "<matplotlib.axes._subplots.AxesSubplot at 0x7f4b5c05f9d0>"
            ]
          },
          "metadata": {},
          "execution_count": 17
        },
        {
          "output_type": "display_data",
          "data": {
            "image/png": "[encoded data removed]",
            "text/plain": [
              "<Figure size 720x288 with 1 Axes>"
            ]
          },
          "metadata": {
            "needs_background": "light"
          }
        },
        {
          "output_type": "display_data",
          "data": {
            "image/png": "[encoded data removed]",
            "text/plain": [
              "<Figure size 720x288 with 1 Axes>"
            ]
          },
          "metadata": {
            "needs_background": "light"
          }
        }
      ]
    },
    {
      "cell_type": "code",
      "metadata": {
        "colab": {
          "base_uri": "https://localhost:8080/",
          "height": 339
        },
        "id": "NZeamNraPmsC",
        "outputId": "968bcc13-60a3-4a44-d151-b5e9d45562e1"
      },
      "source": [
        "fig=plt.figure(figsize=(7, 5))\n",
        "sales.date_block_num.value_counts().sort_index().plot.bar()"
      ],
      "execution_count": 39,
      "outputs": [
        {
          "output_type": "execute_result",
          "data": {
            "text/plain": [
              "<matplotlib.axes._subplots.AxesSubplot at 0x7f4b5b5f7150>"
            ]
          },
          "metadata": {},
          "execution_count": 39
        },
        {
          "output_type": "display_data",
          "data": {
            "image/png": "[encoded data removed]",
            "text/plain": [
              "<Figure size 504x360 with 1 Axes>"
            ]
          },
          "metadata": {
            "needs_background": "light"
          }
        }
      ]
    },
    {
      "cell_type": "code",
      "metadata": {
        "colab": {
          "base_uri": "https://localhost:8080/",
          "height": 463
        },
        "id": "vEBWRew6QEAN",
        "outputId": "9e963a0d-8f34-4156-b771-01cc1fd5c54b"
      },
      "source": [
        "fig=plt.figure(figsize=(10, 7))\n",
        "sales.groupby(\"shop_id\").date.count().plot.bar()"
      ],
      "execution_count": 44,
      "outputs": [
        {
          "output_type": "execute_result",
          "data": {
            "text/plain": [
              "<matplotlib.axes._subplots.AxesSubplot at 0x7f4b5aeaec90>"
            ]
          },
          "metadata": {},
          "execution_count": 44
        },
        {
          "output_type": "display_data",
          "data": {
            "image/png": "[encoded data removed]",
            "text/plain": [
              "<Figure size 720x504 with 1 Axes>"
            ]
          },
          "metadata": {
            "needs_background": "light"
          }
        }
      ]
    },
    {
      "cell_type": "code",
      "metadata": {
        "colab": {
          "base_uri": "https://localhost:8080/"
        },
        "id": "b-7QVka7P4pR",
        "outputId": "fd16d865-e890-45b1-a1c3-851a57891a0a"
      },
      "source": [
        "sales.groupby(\"item_id\").date.count().describe([x/10 for x in range(10)] + [0.01, 0.05, 0.95, 0.99])"
      ],
      "execution_count": 45,
      "outputs": [
        {
          "output_type": "execute_result",
          "data": {
            "text/plain": [
              "count    21807.000000\n",
              "mean       134.628743\n",
              "std        406.938186\n",
              "min          1.000000\n",
              "0%           1.000000\n",
              "1%           1.000000\n",
              "5%           1.000000\n",
              "10%          1.000000\n",
              "20%          4.000000\n",
              "30%         10.000000\n",
              "40%         18.000000\n",
              "50%         32.000000\n",
              "60%         55.000000\n",
              "70%         90.000000\n",
              "80%        160.000000\n",
              "90%        331.000000\n",
              "95%        555.700000\n",
              "99%       1512.700000\n",
              "max      31340.000000\n",
              "Name: date, dtype: float64"
            ]
          },
          "metadata": {},
          "execution_count": 45
        }
      ]
    },
    {
      "cell_type": "markdown",
      "metadata": {
        "id": "C15OtQyihCsh"
      },
      "source": [
        "# FE"
      ]
    },
    {
      "cell_type": "markdown",
      "metadata": {
        "id": "ymS4sS1RS16k"
      },
      "source": [
        "## Feature Matrix Generation"
      ]
    },
    {
      "cell_type": "code",
      "metadata": {
        "id": "3nv9cauFPWhd"
      },
      "source": [
        "sales = sales[(sales.item_price >= 0 ) & (sales.item_cnt_day >= 0)]"
      ],
      "execution_count": 46,
      "outputs": []
    },
    {
      "cell_type": "code",
      "metadata": {
        "colab": {
          "base_uri": "https://localhost:8080/",
          "height": 206
        },
        "id": "yuFgWupDLzjb",
        "outputId": "9c51409c-637a-4102-eb8c-c41e81e87ab0"
      },
      "source": [
        "test_block = sales['date_block_num'].iloc[-1] + 1\n",
        "test['date_block_num'] = test_block\n",
        "test.head()"
      ],
      "execution_count": 47,
      "outputs": [
        {
          "output_type": "execute_result",
          "data": {
            "text/html": [
              "<div>\n",
              "<style scoped>\n",
              "    .dataframe tbody tr th:only-of-type {\n",
              "        vertical-align: middle;\n",
              "    }\n",
              "\n",
              "    .dataframe tbody tr th {\n",
              "        vertical-align: top;\n",
              "    }\n",
              "\n",
              "    .dataframe thead th {\n",
              "        text-align: right;\n",
              "    }\n",
              "</style>\n",
              "<table border=\"1\" class=\"dataframe\">\n",
              "  <thead>\n",
              "    <tr style=\"text-align: right;\">\n",
              "      <th></th>\n",
              "      <th>ID</th>\n",
              "      <th>shop_id</th>\n",
              "      <th>item_id</th>\n",
              "      <th>date_block_num</th>\n",
              "    </tr>\n",
              "  </thead>\n",
              "  <tbody>\n",
              "    <tr>\n",
              "      <th>0</th>\n",
              "      <td>0</td>\n",
              "      <td>5</td>\n",
              "      <td>5037</td>\n",
              "      <td>34</td>\n",
              "    </tr>\n",
              "    <tr>\n",
              "      <th>1</th>\n",
              "      <td>1</td>\n",
              "      <td>5</td>\n",
              "      <td>5320</td>\n",
              "      <td>34</td>\n",
              "    </tr>\n",
              "    <tr>\n",
              "      <th>2</th>\n",
              "      <td>2</td>\n",
              "      <td>5</td>\n",
              "      <td>5233</td>\n",
              "      <td>34</td>\n",
              "    </tr>\n",
              "    <tr>\n",
              "      <th>3</th>\n",
              "      <td>3</td>\n",
              "      <td>5</td>\n",
              "      <td>5232</td>\n",
              "      <td>34</td>\n",
              "    </tr>\n",
              "    <tr>\n",
              "      <th>4</th>\n",
              "      <td>4</td>\n",
              "      <td>5</td>\n",
              "      <td>5268</td>\n",
              "      <td>34</td>\n",
              "    </tr>\n",
              "  </tbody>\n",
              "</table>\n",
              "</div>"
            ],
            "text/plain": [
              "   ID  shop_id  item_id  date_block_num\n",
              "0   0        5     5037              34\n",
              "1   1        5     5320              34\n",
              "2   2        5     5233              34\n",
              "3   3        5     5232              34\n",
              "4   4        5     5268              34"
            ]
          },
          "metadata": {},
          "execution_count": 47
        }
      ]
    },
    {
      "cell_type": "code",
      "metadata": {
        "id": "gBztOWsaNMdD"
      },
      "source": [
        "# Create \"grid\" with columns\n",
        "index_cols = ['shop_id', 'item_id', 'date_block_num']\n",
        "\n",
        "# For every month we create a grid from all shops/items combinations from that month\n",
        "grid = [] \n",
        "for block_num in sales['date_block_num'].unique():\n",
        "    cur_shops = sales.loc[sales['date_block_num'] == block_num, 'shop_id'].unique()\n",
        "    cur_items = sales.loc[sales['date_block_num'] == block_num, 'item_id'].unique()\n",
        "    grid.append(np.array(list(product(*[cur_shops, cur_items, [block_num]])),dtype='int32'))\n",
        "\n",
        "# Turn the grid into a dataframe\n",
        "grid = pd.DataFrame(np.vstack(grid), columns = index_cols,dtype=np.int32)\n",
        "grid = pd.concat([grid, test])\n",
        "\n",
        "# Groupby data to get shop-item-month aggregates\n",
        "gb = sales.groupby(index_cols,as_index=False).agg({'item_cnt_day':'sum'}).rename(columns={\"item_cnt_day\":\"target\"})\n",
        "all_data = pd.merge(grid, gb, how='left', on=index_cols).fillna(0)\n",
        "\n",
        "# Same as above but with shop-month aggregates\n",
        "gb = sales.groupby(['shop_id', 'date_block_num'],as_index=False).agg({'item_cnt_day':'sum'}).rename(columns={\"item_cnt_day\":\"target_shop\"})\n",
        "all_data = pd.merge(all_data, gb, how='left', on=['shop_id', 'date_block_num']).fillna(0)\n",
        "\n",
        "# Same as above but with item-month aggregates\n",
        "gb = sales.groupby(['item_id', 'date_block_num'],as_index=False).agg({'item_cnt_day':'sum'}).rename(columns={\"item_cnt_day\":\"target_item\"})\n",
        "all_data = pd.merge(all_data, gb, how='left', on=['item_id', 'date_block_num']).fillna(0)\n",
        "\n",
        "# Downcast dtypes from 64 to 32 bit to save memory\n",
        "all_data = downcast_dtypes(all_data)\n",
        "del grid, gb \n",
        "gc.collect();"
      ],
      "execution_count": null,
      "outputs": []
    },
    {
      "cell_type": "code",
      "metadata": {
        "colab": {
          "base_uri": "https://localhost:8080/",
          "height": 206
        },
        "id": "BcsvEOXArRJI",
        "outputId": "2ee44786-668d-4b19-cb20-0f4cff611a28"
      },
      "source": [
        "all_data.head()"
      ],
      "execution_count": null,
      "outputs": [
        {
          "output_type": "execute_result",
          "data": {
            "text/html": [
              "<div>\n",
              "<style scoped>\n",
              "    .dataframe tbody tr th:only-of-type {\n",
              "        vertical-align: middle;\n",
              "    }\n",
              "\n",
              "    .dataframe tbody tr th {\n",
              "        vertical-align: top;\n",
              "    }\n",
              "\n",
              "    .dataframe thead th {\n",
              "        text-align: right;\n",
              "    }\n",
              "</style>\n",
              "<table border=\"1\" class=\"dataframe\">\n",
              "  <thead>\n",
              "    <tr style=\"text-align: right;\">\n",
              "      <th></th>\n",
              "      <th>shop_id</th>\n",
              "      <th>item_id</th>\n",
              "      <th>date_block_num</th>\n",
              "      <th>ID</th>\n",
              "      <th>target</th>\n",
              "      <th>target_shop</th>\n",
              "      <th>target_item</th>\n",
              "    </tr>\n",
              "  </thead>\n",
              "  <tbody>\n",
              "    <tr>\n",
              "      <th>0</th>\n",
              "      <td>59</td>\n",
              "      <td>22154</td>\n",
              "      <td>0</td>\n",
              "      <td>0.0</td>\n",
              "      <td>1.0</td>\n",
              "      <td>2017.0</td>\n",
              "      <td>18.0</td>\n",
              "    </tr>\n",
              "    <tr>\n",
              "      <th>1</th>\n",
              "      <td>59</td>\n",
              "      <td>2552</td>\n",
              "      <td>0</td>\n",
              "      <td>0.0</td>\n",
              "      <td>0.0</td>\n",
              "      <td>2017.0</td>\n",
              "      <td>0.0</td>\n",
              "    </tr>\n",
              "    <tr>\n",
              "      <th>2</th>\n",
              "      <td>59</td>\n",
              "      <td>2554</td>\n",
              "      <td>0</td>\n",
              "      <td>0.0</td>\n",
              "      <td>0.0</td>\n",
              "      <td>2017.0</td>\n",
              "      <td>1.0</td>\n",
              "    </tr>\n",
              "    <tr>\n",
              "      <th>3</th>\n",
              "      <td>59</td>\n",
              "      <td>2555</td>\n",
              "      <td>0</td>\n",
              "      <td>0.0</td>\n",
              "      <td>0.0</td>\n",
              "      <td>2017.0</td>\n",
              "      <td>2.0</td>\n",
              "    </tr>\n",
              "    <tr>\n",
              "      <th>4</th>\n",
              "      <td>59</td>\n",
              "      <td>2564</td>\n",
              "      <td>0</td>\n",
              "      <td>0.0</td>\n",
              "      <td>0.0</td>\n",
              "      <td>2017.0</td>\n",
              "      <td>5.0</td>\n",
              "    </tr>\n",
              "  </tbody>\n",
              "</table>\n",
              "</div>"
            ],
            "text/plain": [
              "   shop_id  item_id  date_block_num   ID  target  target_shop  target_item\n",
              "0       59    22154               0  0.0     1.0       2017.0         18.0\n",
              "1       59     2552               0  0.0     0.0       2017.0          0.0\n",
              "2       59     2554               0  0.0     0.0       2017.0          1.0\n",
              "3       59     2555               0  0.0     0.0       2017.0          2.0\n",
              "4       59     2564               0  0.0     0.0       2017.0          5.0"
            ]
          },
          "metadata": {},
          "execution_count": 12
        }
      ]
    },
    {
      "cell_type": "code",
      "metadata": {
        "id": "Hdoikb-qNQDe",
        "colab": {
          "base_uri": "https://localhost:8080/",
          "height": 101,
          "referenced_widgets": [
            "2cecf7097f584ec7bc2d88c516bf46e7",
            "6e3892076bbd4b5884cdae50b3afeab6",
            "b151683b06f843d2bb0a648e21bf8fe0",
            "d6bd31a5a593472da81e4c14f5bf05c9",
            "d88a35aa54384dd69396735cf83f7bec",
            "ef275d2f18de44418ff36db865f9c72c",
            "9e65e7a7e9824fad93e06a89359a473d",
            "cea3592d6d414a689e055c7aaedcd93e",
            "2c6781b318f148a1aeab23a6a2d7d19f",
            "0dca78bdad2a4c05af6c5f439beafaae",
            "cb106938a847453da28d2d9fe7716672"
          ]
        },
        "outputId": "f44913b3-88d1-426e-c7f5-a89552c7e83c"
      },
      "source": [
        "# List of columns that we will use to create lags\n",
        "cols_to_rename = list(all_data.columns.difference(['ID'] + index_cols))\n",
        "shift_range = [1, 2, 3, 4, 5, 12]\n",
        "\n",
        "for month_shift in tqdm_notebook(shift_range):\n",
        "    train_shift = all_data[index_cols + cols_to_rename].copy()\n",
        "    train_shift['date_block_num'] = train_shift['date_block_num'] + month_shift\n",
        "    \n",
        "    foo = lambda x: '{}_lag_{}'.format(x, month_shift) if x in cols_to_rename else x\n",
        "    train_shift = train_shift.rename(columns=foo)\n",
        "    all_data = pd.merge(all_data, train_shift, on=index_cols, how='left').fillna(0)\n",
        "\n",
        "del train_shift\n",
        "\n",
        "# Don't use old data from year 2013\n",
        "all_data = all_data[all_data['date_block_num'] >= 12] \n",
        "\n",
        "# List of all lagged features\n",
        "fit_cols = [col for col in all_data.columns if col[-1] in [str(item) for item in shift_range]] \n",
        "# We will drop these at fitting stage\n",
        "to_drop_cols = list(set(list(all_data.columns)) - (set(fit_cols)|set(index_cols))) + ['date_block_num'] \n",
        "\n",
        "all_data = downcast_dtypes(all_data)\n",
        "gc.collect();"
      ],
      "execution_count": null,
      "outputs": [
        {
          "output_type": "stream",
          "name": "stderr",
          "text": [
            "/usr/local/lib/python3.7/dist-packages/ipykernel_launcher.py:6: TqdmDeprecationWarning: This function will be removed in tqdm==5.0.0\n",
            "Please use `tqdm.notebook.tqdm` instead of `tqdm.tqdm_notebook`\n",
            "  \n"
          ]
        },
        {
          "output_type": "display_data",
          "data": {
            "application/vnd.jupyter.widget-view+json": {
              "model_id": "2cecf7097f584ec7bc2d88c516bf46e7",
              "version_minor": 0,
              "version_major": 2
            },
            "text/plain": [
              "  0%|          | 0/6 [00:00<?, ?it/s]"
            ]
          },
          "metadata": {}
        }
      ]
    },
    {
      "cell_type": "code",
      "metadata": {
        "colab": {
          "base_uri": "https://localhost:8080/",
          "height": 226
        },
        "id": "E6OyhlXjv1In",
        "outputId": "c9a2a527-2b03-4e28-94a2-b40fac42abe6"
      },
      "source": [
        "all_data.head()"
      ],
      "execution_count": null,
      "outputs": [
        {
          "output_type": "execute_result",
          "data": {
            "text/html": [
              "<div>\n",
              "<style scoped>\n",
              "    .dataframe tbody tr th:only-of-type {\n",
              "        vertical-align: middle;\n",
              "    }\n",
              "\n",
              "    .dataframe tbody tr th {\n",
              "        vertical-align: top;\n",
              "    }\n",
              "\n",
              "    .dataframe thead th {\n",
              "        text-align: right;\n",
              "    }\n",
              "</style>\n",
              "<table border=\"1\" class=\"dataframe\">\n",
              "  <thead>\n",
              "    <tr style=\"text-align: right;\">\n",
              "      <th></th>\n",
              "      <th>shop_id</th>\n",
              "      <th>item_id</th>\n",
              "      <th>date_block_num</th>\n",
              "      <th>ID</th>\n",
              "      <th>target</th>\n",
              "      <th>target_shop</th>\n",
              "      <th>target_item</th>\n",
              "      <th>target_lag_1</th>\n",
              "      <th>target_item_lag_1</th>\n",
              "      <th>target_shop_lag_1</th>\n",
              "      <th>target_lag_2</th>\n",
              "      <th>target_item_lag_2</th>\n",
              "      <th>target_shop_lag_2</th>\n",
              "      <th>target_lag_3</th>\n",
              "      <th>target_item_lag_3</th>\n",
              "      <th>target_shop_lag_3</th>\n",
              "      <th>target_lag_4</th>\n",
              "      <th>target_item_lag_4</th>\n",
              "      <th>target_shop_lag_4</th>\n",
              "      <th>target_lag_5</th>\n",
              "      <th>target_item_lag_5</th>\n",
              "      <th>target_shop_lag_5</th>\n",
              "      <th>target_lag_12</th>\n",
              "      <th>target_item_lag_12</th>\n",
              "      <th>target_shop_lag_12</th>\n",
              "    </tr>\n",
              "  </thead>\n",
              "  <tbody>\n",
              "    <tr>\n",
              "      <th>4488756</th>\n",
              "      <td>54</td>\n",
              "      <td>10297</td>\n",
              "      <td>12</td>\n",
              "      <td>0.0</td>\n",
              "      <td>4.0</td>\n",
              "      <td>8198.0</td>\n",
              "      <td>23.0</td>\n",
              "      <td>3.0</td>\n",
              "      <td>42.0</td>\n",
              "      <td>10055.0</td>\n",
              "      <td>0.0</td>\n",
              "      <td>2.0</td>\n",
              "      <td>7978.0</td>\n",
              "      <td>0.0</td>\n",
              "      <td>0.0</td>\n",
              "      <td>0.0</td>\n",
              "      <td>0.0</td>\n",
              "      <td>0.0</td>\n",
              "      <td>0.0</td>\n",
              "      <td>0.0</td>\n",
              "      <td>0.0</td>\n",
              "      <td>0.0</td>\n",
              "      <td>0.0</td>\n",
              "      <td>0.0</td>\n",
              "      <td>0.0</td>\n",
              "    </tr>\n",
              "    <tr>\n",
              "      <th>4488757</th>\n",
              "      <td>54</td>\n",
              "      <td>10296</td>\n",
              "      <td>12</td>\n",
              "      <td>0.0</td>\n",
              "      <td>3.0</td>\n",
              "      <td>8198.0</td>\n",
              "      <td>17.0</td>\n",
              "      <td>0.0</td>\n",
              "      <td>24.0</td>\n",
              "      <td>10055.0</td>\n",
              "      <td>0.0</td>\n",
              "      <td>0.0</td>\n",
              "      <td>0.0</td>\n",
              "      <td>0.0</td>\n",
              "      <td>0.0</td>\n",
              "      <td>0.0</td>\n",
              "      <td>0.0</td>\n",
              "      <td>0.0</td>\n",
              "      <td>0.0</td>\n",
              "      <td>0.0</td>\n",
              "      <td>0.0</td>\n",
              "      <td>0.0</td>\n",
              "      <td>0.0</td>\n",
              "      <td>0.0</td>\n",
              "      <td>0.0</td>\n",
              "    </tr>\n",
              "    <tr>\n",
              "      <th>4488758</th>\n",
              "      <td>54</td>\n",
              "      <td>10298</td>\n",
              "      <td>12</td>\n",
              "      <td>0.0</td>\n",
              "      <td>14.0</td>\n",
              "      <td>8198.0</td>\n",
              "      <td>182.0</td>\n",
              "      <td>21.0</td>\n",
              "      <td>369.0</td>\n",
              "      <td>10055.0</td>\n",
              "      <td>119.0</td>\n",
              "      <td>1309.0</td>\n",
              "      <td>7978.0</td>\n",
              "      <td>7.0</td>\n",
              "      <td>144.0</td>\n",
              "      <td>6676.0</td>\n",
              "      <td>0.0</td>\n",
              "      <td>0.0</td>\n",
              "      <td>0.0</td>\n",
              "      <td>0.0</td>\n",
              "      <td>0.0</td>\n",
              "      <td>0.0</td>\n",
              "      <td>0.0</td>\n",
              "      <td>0.0</td>\n",
              "      <td>0.0</td>\n",
              "    </tr>\n",
              "    <tr>\n",
              "      <th>4488759</th>\n",
              "      <td>54</td>\n",
              "      <td>10300</td>\n",
              "      <td>12</td>\n",
              "      <td>0.0</td>\n",
              "      <td>3.0</td>\n",
              "      <td>8198.0</td>\n",
              "      <td>26.0</td>\n",
              "      <td>1.0</td>\n",
              "      <td>54.0</td>\n",
              "      <td>10055.0</td>\n",
              "      <td>31.0</td>\n",
              "      <td>361.0</td>\n",
              "      <td>7978.0</td>\n",
              "      <td>0.0</td>\n",
              "      <td>53.0</td>\n",
              "      <td>6676.0</td>\n",
              "      <td>0.0</td>\n",
              "      <td>0.0</td>\n",
              "      <td>0.0</td>\n",
              "      <td>0.0</td>\n",
              "      <td>0.0</td>\n",
              "      <td>0.0</td>\n",
              "      <td>0.0</td>\n",
              "      <td>0.0</td>\n",
              "      <td>0.0</td>\n",
              "    </tr>\n",
              "    <tr>\n",
              "      <th>4488760</th>\n",
              "      <td>54</td>\n",
              "      <td>10284</td>\n",
              "      <td>12</td>\n",
              "      <td>0.0</td>\n",
              "      <td>1.0</td>\n",
              "      <td>8198.0</td>\n",
              "      <td>3.0</td>\n",
              "      <td>0.0</td>\n",
              "      <td>4.0</td>\n",
              "      <td>10055.0</td>\n",
              "      <td>0.0</td>\n",
              "      <td>3.0</td>\n",
              "      <td>7978.0</td>\n",
              "      <td>0.0</td>\n",
              "      <td>5.0</td>\n",
              "      <td>6676.0</td>\n",
              "      <td>0.0</td>\n",
              "      <td>3.0</td>\n",
              "      <td>7827.0</td>\n",
              "      <td>0.0</td>\n",
              "      <td>10.0</td>\n",
              "      <td>7792.0</td>\n",
              "      <td>0.0</td>\n",
              "      <td>0.0</td>\n",
              "      <td>0.0</td>\n",
              "    </tr>\n",
              "  </tbody>\n",
              "</table>\n",
              "</div>"
            ],
            "text/plain": [
              "         shop_id  item_id  date_block_num   ID  target  target_shop  \\\n",
              "4488756       54    10297              12  0.0     4.0       8198.0   \n",
              "4488757       54    10296              12  0.0     3.0       8198.0   \n",
              "4488758       54    10298              12  0.0    14.0       8198.0   \n",
              "4488759       54    10300              12  0.0     3.0       8198.0   \n",
              "4488760       54    10284              12  0.0     1.0       8198.0   \n",
              "\n",
              "         target_item  target_lag_1  target_item_lag_1  target_shop_lag_1  \\\n",
              "4488756         23.0           3.0               42.0            10055.0   \n",
              "4488757         17.0           0.0               24.0            10055.0   \n",
              "4488758        182.0          21.0              369.0            10055.0   \n",
              "4488759         26.0           1.0               54.0            10055.0   \n",
              "4488760          3.0           0.0                4.0            10055.0   \n",
              "\n",
              "         target_lag_2  target_item_lag_2  target_shop_lag_2  target_lag_3  \\\n",
              "4488756           0.0                2.0             7978.0           0.0   \n",
              "4488757           0.0                0.0                0.0           0.0   \n",
              "4488758         119.0             1309.0             7978.0           7.0   \n",
              "4488759          31.0              361.0             7978.0           0.0   \n",
              "4488760           0.0                3.0             7978.0           0.0   \n",
              "\n",
              "         target_item_lag_3  target_shop_lag_3  target_lag_4  \\\n",
              "4488756                0.0                0.0           0.0   \n",
              "4488757                0.0                0.0           0.0   \n",
              "4488758              144.0             6676.0           0.0   \n",
              "4488759               53.0             6676.0           0.0   \n",
              "4488760                5.0             6676.0           0.0   \n",
              "\n",
              "         target_item_lag_4  target_shop_lag_4  target_lag_5  \\\n",
              "4488756                0.0                0.0           0.0   \n",
              "4488757                0.0                0.0           0.0   \n",
              "4488758                0.0                0.0           0.0   \n",
              "4488759                0.0                0.0           0.0   \n",
              "4488760                3.0             7827.0           0.0   \n",
              "\n",
              "         target_item_lag_5  target_shop_lag_5  target_lag_12  \\\n",
              "4488756                0.0                0.0            0.0   \n",
              "4488757                0.0                0.0            0.0   \n",
              "4488758                0.0                0.0            0.0   \n",
              "4488759                0.0                0.0            0.0   \n",
              "4488760               10.0             7792.0            0.0   \n",
              "\n",
              "         target_item_lag_12  target_shop_lag_12  \n",
              "4488756                 0.0                 0.0  \n",
              "4488757                 0.0                 0.0  \n",
              "4488758                 0.0                 0.0  \n",
              "4488759                 0.0                 0.0  \n",
              "4488760                 0.0                 0.0  "
            ]
          },
          "metadata": {},
          "execution_count": 15
        }
      ]
    },
    {
      "cell_type": "markdown",
      "metadata": {
        "id": "JxnODsUGTbYX"
      },
      "source": [
        "### Feature Extraction"
      ]
    },
    {
      "cell_type": "code",
      "metadata": {
        "id": "KAWvvHfGTfPF",
        "colab": {
          "base_uri": "https://localhost:8080/",
          "height": 226
        },
        "outputId": "e2741bb6-a27d-4a66-8037-c618b91e61db"
      },
      "source": [
        "#Text Features\n",
        "feature_cnt = 25\n",
        "tfidf = feature_extraction.text.TfidfVectorizer(max_features=feature_cnt)\n",
        "items['item_name_len'] = items['item_name'].map(len) #Lenth of Item Description\n",
        "items['item_name_wc'] = items['item_name'].map(lambda x: len(str(x).split(' '))) #Item Description Word Count\n",
        "txtFeatures = pd.DataFrame(tfidf.fit_transform(items['item_name']).toarray())\n",
        "cols = txtFeatures.columns\n",
        "for i in range(feature_cnt):\n",
        "    items['item_name_tfidf_' + str(i)] = txtFeatures[cols[i]]\n",
        "items.drop(columns='item_name', inplace=True)\n",
        "items.head()"
      ],
      "execution_count": null,
      "outputs": [
        {
          "output_type": "execute_result",
          "data": {
            "text/html": [
              "<div>\n",
              "<style scoped>\n",
              "    .dataframe tbody tr th:only-of-type {\n",
              "        vertical-align: middle;\n",
              "    }\n",
              "\n",
              "    .dataframe tbody tr th {\n",
              "        vertical-align: top;\n",
              "    }\n",
              "\n",
              "    .dataframe thead th {\n",
              "        text-align: right;\n",
              "    }\n",
              "</style>\n",
              "<table border=\"1\" class=\"dataframe\">\n",
              "  <thead>\n",
              "    <tr style=\"text-align: right;\">\n",
              "      <th></th>\n",
              "      <th>item_id</th>\n",
              "      <th>item_category_id</th>\n",
              "      <th>item_name_len</th>\n",
              "      <th>item_name_wc</th>\n",
              "      <th>item_name_tfidf_0</th>\n",
              "      <th>item_name_tfidf_1</th>\n",
              "      <th>item_name_tfidf_2</th>\n",
              "      <th>item_name_tfidf_3</th>\n",
              "      <th>item_name_tfidf_4</th>\n",
              "      <th>item_name_tfidf_5</th>\n",
              "      <th>item_name_tfidf_6</th>\n",
              "      <th>item_name_tfidf_7</th>\n",
              "      <th>item_name_tfidf_8</th>\n",
              "      <th>item_name_tfidf_9</th>\n",
              "      <th>item_name_tfidf_10</th>\n",
              "      <th>item_name_tfidf_11</th>\n",
              "      <th>item_name_tfidf_12</th>\n",
              "      <th>item_name_tfidf_13</th>\n",
              "      <th>item_name_tfidf_14</th>\n",
              "      <th>item_name_tfidf_15</th>\n",
              "      <th>item_name_tfidf_16</th>\n",
              "      <th>item_name_tfidf_17</th>\n",
              "      <th>item_name_tfidf_18</th>\n",
              "      <th>item_name_tfidf_19</th>\n",
              "      <th>item_name_tfidf_20</th>\n",
              "      <th>item_name_tfidf_21</th>\n",
              "      <th>item_name_tfidf_22</th>\n",
              "      <th>item_name_tfidf_23</th>\n",
              "      <th>item_name_tfidf_24</th>\n",
              "    </tr>\n",
              "  </thead>\n",
              "  <tbody>\n",
              "    <tr>\n",
              "      <th>0</th>\n",
              "      <td>0</td>\n",
              "      <td>40</td>\n",
              "      <td>41</td>\n",
              "      <td>14</td>\n",
              "      <td>0.0</td>\n",
              "      <td>0.0</td>\n",
              "      <td>0.0</td>\n",
              "      <td>0.0</td>\n",
              "      <td>0.0</td>\n",
              "      <td>0.0</td>\n",
              "      <td>0.0</td>\n",
              "      <td>0.000000</td>\n",
              "      <td>0.0</td>\n",
              "      <td>0.0</td>\n",
              "      <td>0.0</td>\n",
              "      <td>0.0</td>\n",
              "      <td>0.000000</td>\n",
              "      <td>0.0</td>\n",
              "      <td>0.0</td>\n",
              "      <td>0.0</td>\n",
              "      <td>0.000000</td>\n",
              "      <td>0.0</td>\n",
              "      <td>0.0</td>\n",
              "      <td>0.0</td>\n",
              "      <td>0.0</td>\n",
              "      <td>0.0</td>\n",
              "      <td>0.0</td>\n",
              "      <td>0.0</td>\n",
              "      <td>0.000000</td>\n",
              "    </tr>\n",
              "    <tr>\n",
              "      <th>1</th>\n",
              "      <td>1</td>\n",
              "      <td>76</td>\n",
              "      <td>68</td>\n",
              "      <td>9</td>\n",
              "      <td>0.0</td>\n",
              "      <td>0.0</td>\n",
              "      <td>0.0</td>\n",
              "      <td>0.0</td>\n",
              "      <td>0.0</td>\n",
              "      <td>0.0</td>\n",
              "      <td>0.0</td>\n",
              "      <td>0.637898</td>\n",
              "      <td>0.0</td>\n",
              "      <td>0.0</td>\n",
              "      <td>0.0</td>\n",
              "      <td>0.0</td>\n",
              "      <td>0.442678</td>\n",
              "      <td>0.0</td>\n",
              "      <td>0.0</td>\n",
              "      <td>0.0</td>\n",
              "      <td>0.403761</td>\n",
              "      <td>0.0</td>\n",
              "      <td>0.0</td>\n",
              "      <td>0.0</td>\n",
              "      <td>0.0</td>\n",
              "      <td>0.0</td>\n",
              "      <td>0.0</td>\n",
              "      <td>0.0</td>\n",
              "      <td>0.483839</td>\n",
              "    </tr>\n",
              "    <tr>\n",
              "      <th>2</th>\n",
              "      <td>2</td>\n",
              "      <td>40</td>\n",
              "      <td>45</td>\n",
              "      <td>26</td>\n",
              "      <td>0.0</td>\n",
              "      <td>0.0</td>\n",
              "      <td>0.0</td>\n",
              "      <td>0.0</td>\n",
              "      <td>0.0</td>\n",
              "      <td>0.0</td>\n",
              "      <td>0.0</td>\n",
              "      <td>0.000000</td>\n",
              "      <td>0.0</td>\n",
              "      <td>0.0</td>\n",
              "      <td>0.0</td>\n",
              "      <td>0.0</td>\n",
              "      <td>0.000000</td>\n",
              "      <td>0.0</td>\n",
              "      <td>0.0</td>\n",
              "      <td>0.0</td>\n",
              "      <td>0.000000</td>\n",
              "      <td>0.0</td>\n",
              "      <td>0.0</td>\n",
              "      <td>0.0</td>\n",
              "      <td>0.0</td>\n",
              "      <td>0.0</td>\n",
              "      <td>0.0</td>\n",
              "      <td>0.0</td>\n",
              "      <td>0.000000</td>\n",
              "    </tr>\n",
              "    <tr>\n",
              "      <th>3</th>\n",
              "      <td>3</td>\n",
              "      <td>40</td>\n",
              "      <td>47</td>\n",
              "      <td>26</td>\n",
              "      <td>0.0</td>\n",
              "      <td>0.0</td>\n",
              "      <td>0.0</td>\n",
              "      <td>0.0</td>\n",
              "      <td>0.0</td>\n",
              "      <td>0.0</td>\n",
              "      <td>0.0</td>\n",
              "      <td>0.000000</td>\n",
              "      <td>0.0</td>\n",
              "      <td>0.0</td>\n",
              "      <td>0.0</td>\n",
              "      <td>0.0</td>\n",
              "      <td>0.000000</td>\n",
              "      <td>0.0</td>\n",
              "      <td>0.0</td>\n",
              "      <td>0.0</td>\n",
              "      <td>0.000000</td>\n",
              "      <td>0.0</td>\n",
              "      <td>0.0</td>\n",
              "      <td>0.0</td>\n",
              "      <td>0.0</td>\n",
              "      <td>0.0</td>\n",
              "      <td>0.0</td>\n",
              "      <td>0.0</td>\n",
              "      <td>0.000000</td>\n",
              "    </tr>\n",
              "    <tr>\n",
              "      <th>4</th>\n",
              "      <td>4</td>\n",
              "      <td>40</td>\n",
              "      <td>43</td>\n",
              "      <td>25</td>\n",
              "      <td>0.0</td>\n",
              "      <td>0.0</td>\n",
              "      <td>0.0</td>\n",
              "      <td>0.0</td>\n",
              "      <td>0.0</td>\n",
              "      <td>0.0</td>\n",
              "      <td>0.0</td>\n",
              "      <td>0.000000</td>\n",
              "      <td>0.0</td>\n",
              "      <td>0.0</td>\n",
              "      <td>0.0</td>\n",
              "      <td>0.0</td>\n",
              "      <td>0.000000</td>\n",
              "      <td>0.0</td>\n",
              "      <td>0.0</td>\n",
              "      <td>0.0</td>\n",
              "      <td>0.000000</td>\n",
              "      <td>0.0</td>\n",
              "      <td>0.0</td>\n",
              "      <td>0.0</td>\n",
              "      <td>0.0</td>\n",
              "      <td>0.0</td>\n",
              "      <td>0.0</td>\n",
              "      <td>0.0</td>\n",
              "      <td>0.000000</td>\n",
              "    </tr>\n",
              "  </tbody>\n",
              "</table>\n",
              "</div>"
            ],
            "text/plain": [
              "   item_id  item_category_id  item_name_len  item_name_wc  item_name_tfidf_0  \\\n",
              "0        0                40             41            14                0.0   \n",
              "1        1                76             68             9                0.0   \n",
              "2        2                40             45            26                0.0   \n",
              "3        3                40             47            26                0.0   \n",
              "4        4                40             43            25                0.0   \n",
              "\n",
              "   item_name_tfidf_1  item_name_tfidf_2  item_name_tfidf_3  item_name_tfidf_4  \\\n",
              "0                0.0                0.0                0.0                0.0   \n",
              "1                0.0                0.0                0.0                0.0   \n",
              "2                0.0                0.0                0.0                0.0   \n",
              "3                0.0                0.0                0.0                0.0   \n",
              "4                0.0                0.0                0.0                0.0   \n",
              "\n",
              "   item_name_tfidf_5  item_name_tfidf_6  item_name_tfidf_7  item_name_tfidf_8  \\\n",
              "0                0.0                0.0           0.000000                0.0   \n",
              "1                0.0                0.0           0.637898                0.0   \n",
              "2                0.0                0.0           0.000000                0.0   \n",
              "3                0.0                0.0           0.000000                0.0   \n",
              "4                0.0                0.0           0.000000                0.0   \n",
              "\n",
              "   item_name_tfidf_9  item_name_tfidf_10  item_name_tfidf_11  \\\n",
              "0                0.0                 0.0                 0.0   \n",
              "1                0.0                 0.0                 0.0   \n",
              "2                0.0                 0.0                 0.0   \n",
              "3                0.0                 0.0                 0.0   \n",
              "4                0.0                 0.0                 0.0   \n",
              "\n",
              "   item_name_tfidf_12  item_name_tfidf_13  item_name_tfidf_14  \\\n",
              "0            0.000000                 0.0                 0.0   \n",
              "1            0.442678                 0.0                 0.0   \n",
              "2            0.000000                 0.0                 0.0   \n",
              "3            0.000000                 0.0                 0.0   \n",
              "4            0.000000                 0.0                 0.0   \n",
              "\n",
              "   item_name_tfidf_15  item_name_tfidf_16  item_name_tfidf_17  \\\n",
              "0                 0.0            0.000000                 0.0   \n",
              "1                 0.0            0.403761                 0.0   \n",
              "2                 0.0            0.000000                 0.0   \n",
              "3                 0.0            0.000000                 0.0   \n",
              "4                 0.0            0.000000                 0.0   \n",
              "\n",
              "   item_name_tfidf_18  item_name_tfidf_19  item_name_tfidf_20  \\\n",
              "0                 0.0                 0.0                 0.0   \n",
              "1                 0.0                 0.0                 0.0   \n",
              "2                 0.0                 0.0                 0.0   \n",
              "3                 0.0                 0.0                 0.0   \n",
              "4                 0.0                 0.0                 0.0   \n",
              "\n",
              "   item_name_tfidf_21  item_name_tfidf_22  item_name_tfidf_23  \\\n",
              "0                 0.0                 0.0                 0.0   \n",
              "1                 0.0                 0.0                 0.0   \n",
              "2                 0.0                 0.0                 0.0   \n",
              "3                 0.0                 0.0                 0.0   \n",
              "4                 0.0                 0.0                 0.0   \n",
              "\n",
              "   item_name_tfidf_24  \n",
              "0            0.000000  \n",
              "1            0.483839  \n",
              "2            0.000000  \n",
              "3            0.000000  \n",
              "4            0.000000  "
            ]
          },
          "metadata": {},
          "execution_count": 16
        }
      ]
    },
    {
      "cell_type": "code",
      "metadata": {
        "id": "0nfps1eWTfSQ",
        "colab": {
          "base_uri": "https://localhost:8080/",
          "height": 226
        },
        "outputId": "79e86d7c-c480-4965-f8cb-b60d96517e2a"
      },
      "source": [
        "#Text Features\n",
        "feature_cnt = 25\n",
        "tfidf = feature_extraction.text.TfidfVectorizer(max_features=feature_cnt)\n",
        "item_cats['item_category_name_len'] = item_cats['item_category_name'].map(len)  #Lenth of Item Category Description\n",
        "item_cats['item_category_name_wc'] = item_cats['item_category_name'].map(lambda x: len(str(x).split(' '))) #Item Category Description Word Count\n",
        "txtFeatures = pd.DataFrame(tfidf.fit_transform(item_cats['item_category_name']).toarray())\n",
        "cols = txtFeatures.columns\n",
        "for i in range(feature_cnt):\n",
        "    item_cats['item_category_name_tfidf_' + str(i)] = txtFeatures[cols[i]]\n",
        "item_cats.drop(columns='item_category_name', inplace=True)\n",
        "item_cats.head()"
      ],
      "execution_count": null,
      "outputs": [
        {
          "output_type": "execute_result",
          "data": {
            "text/html": [
              "<div>\n",
              "<style scoped>\n",
              "    .dataframe tbody tr th:only-of-type {\n",
              "        vertical-align: middle;\n",
              "    }\n",
              "\n",
              "    .dataframe tbody tr th {\n",
              "        vertical-align: top;\n",
              "    }\n",
              "\n",
              "    .dataframe thead th {\n",
              "        text-align: right;\n",
              "    }\n",
              "</style>\n",
              "<table border=\"1\" class=\"dataframe\">\n",
              "  <thead>\n",
              "    <tr style=\"text-align: right;\">\n",
              "      <th></th>\n",
              "      <th>item_category_id</th>\n",
              "      <th>item_category_name_len</th>\n",
              "      <th>item_category_name_wc</th>\n",
              "      <th>item_category_name_tfidf_0</th>\n",
              "      <th>item_category_name_tfidf_1</th>\n",
              "      <th>item_category_name_tfidf_2</th>\n",
              "      <th>item_category_name_tfidf_3</th>\n",
              "      <th>item_category_name_tfidf_4</th>\n",
              "      <th>item_category_name_tfidf_5</th>\n",
              "      <th>item_category_name_tfidf_6</th>\n",
              "      <th>item_category_name_tfidf_7</th>\n",
              "      <th>item_category_name_tfidf_8</th>\n",
              "      <th>item_category_name_tfidf_9</th>\n",
              "      <th>item_category_name_tfidf_10</th>\n",
              "      <th>item_category_name_tfidf_11</th>\n",
              "      <th>item_category_name_tfidf_12</th>\n",
              "      <th>item_category_name_tfidf_13</th>\n",
              "      <th>item_category_name_tfidf_14</th>\n",
              "      <th>item_category_name_tfidf_15</th>\n",
              "      <th>item_category_name_tfidf_16</th>\n",
              "      <th>item_category_name_tfidf_17</th>\n",
              "      <th>item_category_name_tfidf_18</th>\n",
              "      <th>item_category_name_tfidf_19</th>\n",
              "      <th>item_category_name_tfidf_20</th>\n",
              "      <th>item_category_name_tfidf_21</th>\n",
              "      <th>item_category_name_tfidf_22</th>\n",
              "      <th>item_category_name_tfidf_23</th>\n",
              "      <th>item_category_name_tfidf_24</th>\n",
              "    </tr>\n",
              "  </thead>\n",
              "  <tbody>\n",
              "    <tr>\n",
              "      <th>0</th>\n",
              "      <td>0</td>\n",
              "      <td>23</td>\n",
              "      <td>3</td>\n",
              "      <td>0.0</td>\n",
              "      <td>0.0</td>\n",
              "      <td>0.0</td>\n",
              "      <td>1.0</td>\n",
              "      <td>0.000000</td>\n",
              "      <td>0.000000</td>\n",
              "      <td>0.000000</td>\n",
              "      <td>0.000000</td>\n",
              "      <td>0.0</td>\n",
              "      <td>0.0</td>\n",
              "      <td>0.000000</td>\n",
              "      <td>0.0</td>\n",
              "      <td>0.0</td>\n",
              "      <td>0.0</td>\n",
              "      <td>0.0</td>\n",
              "      <td>0.0</td>\n",
              "      <td>0.0</td>\n",
              "      <td>0.0</td>\n",
              "      <td>0.0</td>\n",
              "      <td>0.0</td>\n",
              "      <td>0.0</td>\n",
              "      <td>0.0</td>\n",
              "      <td>0.0</td>\n",
              "      <td>0.0</td>\n",
              "      <td>0.0</td>\n",
              "    </tr>\n",
              "    <tr>\n",
              "      <th>1</th>\n",
              "      <td>1</td>\n",
              "      <td>16</td>\n",
              "      <td>3</td>\n",
              "      <td>0.0</td>\n",
              "      <td>0.0</td>\n",
              "      <td>0.0</td>\n",
              "      <td>0.0</td>\n",
              "      <td>0.780837</td>\n",
              "      <td>0.000000</td>\n",
              "      <td>0.000000</td>\n",
              "      <td>0.000000</td>\n",
              "      <td>0.0</td>\n",
              "      <td>0.0</td>\n",
              "      <td>0.624735</td>\n",
              "      <td>0.0</td>\n",
              "      <td>0.0</td>\n",
              "      <td>0.0</td>\n",
              "      <td>0.0</td>\n",
              "      <td>0.0</td>\n",
              "      <td>0.0</td>\n",
              "      <td>0.0</td>\n",
              "      <td>0.0</td>\n",
              "      <td>0.0</td>\n",
              "      <td>0.0</td>\n",
              "      <td>0.0</td>\n",
              "      <td>0.0</td>\n",
              "      <td>0.0</td>\n",
              "      <td>0.0</td>\n",
              "    </tr>\n",
              "    <tr>\n",
              "      <th>2</th>\n",
              "      <td>2</td>\n",
              "      <td>16</td>\n",
              "      <td>3</td>\n",
              "      <td>0.0</td>\n",
              "      <td>0.0</td>\n",
              "      <td>0.0</td>\n",
              "      <td>0.0</td>\n",
              "      <td>0.000000</td>\n",
              "      <td>0.780837</td>\n",
              "      <td>0.000000</td>\n",
              "      <td>0.000000</td>\n",
              "      <td>0.0</td>\n",
              "      <td>0.0</td>\n",
              "      <td>0.624735</td>\n",
              "      <td>0.0</td>\n",
              "      <td>0.0</td>\n",
              "      <td>0.0</td>\n",
              "      <td>0.0</td>\n",
              "      <td>0.0</td>\n",
              "      <td>0.0</td>\n",
              "      <td>0.0</td>\n",
              "      <td>0.0</td>\n",
              "      <td>0.0</td>\n",
              "      <td>0.0</td>\n",
              "      <td>0.0</td>\n",
              "      <td>0.0</td>\n",
              "      <td>0.0</td>\n",
              "      <td>0.0</td>\n",
              "    </tr>\n",
              "    <tr>\n",
              "      <th>3</th>\n",
              "      <td>3</td>\n",
              "      <td>16</td>\n",
              "      <td>3</td>\n",
              "      <td>0.0</td>\n",
              "      <td>0.0</td>\n",
              "      <td>0.0</td>\n",
              "      <td>0.0</td>\n",
              "      <td>0.000000</td>\n",
              "      <td>0.000000</td>\n",
              "      <td>0.780837</td>\n",
              "      <td>0.000000</td>\n",
              "      <td>0.0</td>\n",
              "      <td>0.0</td>\n",
              "      <td>0.624735</td>\n",
              "      <td>0.0</td>\n",
              "      <td>0.0</td>\n",
              "      <td>0.0</td>\n",
              "      <td>0.0</td>\n",
              "      <td>0.0</td>\n",
              "      <td>0.0</td>\n",
              "      <td>0.0</td>\n",
              "      <td>0.0</td>\n",
              "      <td>0.0</td>\n",
              "      <td>0.0</td>\n",
              "      <td>0.0</td>\n",
              "      <td>0.0</td>\n",
              "      <td>0.0</td>\n",
              "      <td>0.0</td>\n",
              "    </tr>\n",
              "    <tr>\n",
              "      <th>4</th>\n",
              "      <td>4</td>\n",
              "      <td>16</td>\n",
              "      <td>3</td>\n",
              "      <td>0.0</td>\n",
              "      <td>0.0</td>\n",
              "      <td>0.0</td>\n",
              "      <td>0.0</td>\n",
              "      <td>0.000000</td>\n",
              "      <td>0.000000</td>\n",
              "      <td>0.000000</td>\n",
              "      <td>0.780837</td>\n",
              "      <td>0.0</td>\n",
              "      <td>0.0</td>\n",
              "      <td>0.624735</td>\n",
              "      <td>0.0</td>\n",
              "      <td>0.0</td>\n",
              "      <td>0.0</td>\n",
              "      <td>0.0</td>\n",
              "      <td>0.0</td>\n",
              "      <td>0.0</td>\n",
              "      <td>0.0</td>\n",
              "      <td>0.0</td>\n",
              "      <td>0.0</td>\n",
              "      <td>0.0</td>\n",
              "      <td>0.0</td>\n",
              "      <td>0.0</td>\n",
              "      <td>0.0</td>\n",
              "      <td>0.0</td>\n",
              "    </tr>\n",
              "  </tbody>\n",
              "</table>\n",
              "</div>"
            ],
            "text/plain": [
              "   item_category_id  item_category_name_len  item_category_name_wc  \\\n",
              "0                 0                      23                      3   \n",
              "1                 1                      16                      3   \n",
              "2                 2                      16                      3   \n",
              "3                 3                      16                      3   \n",
              "4                 4                      16                      3   \n",
              "\n",
              "   item_category_name_tfidf_0  item_category_name_tfidf_1  \\\n",
              "0                         0.0                         0.0   \n",
              "1                         0.0                         0.0   \n",
              "2                         0.0                         0.0   \n",
              "3                         0.0                         0.0   \n",
              "4                         0.0                         0.0   \n",
              "\n",
              "   item_category_name_tfidf_2  item_category_name_tfidf_3  \\\n",
              "0                         0.0                         1.0   \n",
              "1                         0.0                         0.0   \n",
              "2                         0.0                         0.0   \n",
              "3                         0.0                         0.0   \n",
              "4                         0.0                         0.0   \n",
              "\n",
              "   item_category_name_tfidf_4  item_category_name_tfidf_5  \\\n",
              "0                    0.000000                    0.000000   \n",
              "1                    0.780837                    0.000000   \n",
              "2                    0.000000                    0.780837   \n",
              "3                    0.000000                    0.000000   \n",
              "4                    0.000000                    0.000000   \n",
              "\n",
              "   item_category_name_tfidf_6  item_category_name_tfidf_7  \\\n",
              "0                    0.000000                    0.000000   \n",
              "1                    0.000000                    0.000000   \n",
              "2                    0.000000                    0.000000   \n",
              "3                    0.780837                    0.000000   \n",
              "4                    0.000000                    0.780837   \n",
              "\n",
              "   item_category_name_tfidf_8  item_category_name_tfidf_9  \\\n",
              "0                         0.0                         0.0   \n",
              "1                         0.0                         0.0   \n",
              "2                         0.0                         0.0   \n",
              "3                         0.0                         0.0   \n",
              "4                         0.0                         0.0   \n",
              "\n",
              "   item_category_name_tfidf_10  item_category_name_tfidf_11  \\\n",
              "0                     0.000000                          0.0   \n",
              "1                     0.624735                          0.0   \n",
              "2                     0.624735                          0.0   \n",
              "3                     0.624735                          0.0   \n",
              "4                     0.624735                          0.0   \n",
              "\n",
              "   item_category_name_tfidf_12  item_category_name_tfidf_13  \\\n",
              "0                          0.0                          0.0   \n",
              "1                          0.0                          0.0   \n",
              "2                          0.0                          0.0   \n",
              "3                          0.0                          0.0   \n",
              "4                          0.0                          0.0   \n",
              "\n",
              "   item_category_name_tfidf_14  item_category_name_tfidf_15  \\\n",
              "0                          0.0                          0.0   \n",
              "1                          0.0                          0.0   \n",
              "2                          0.0                          0.0   \n",
              "3                          0.0                          0.0   \n",
              "4                          0.0                          0.0   \n",
              "\n",
              "   item_category_name_tfidf_16  item_category_name_tfidf_17  \\\n",
              "0                          0.0                          0.0   \n",
              "1                          0.0                          0.0   \n",
              "2                          0.0                          0.0   \n",
              "3                          0.0                          0.0   \n",
              "4                          0.0                          0.0   \n",
              "\n",
              "   item_category_name_tfidf_18  item_category_name_tfidf_19  \\\n",
              "0                          0.0                          0.0   \n",
              "1                          0.0                          0.0   \n",
              "2                          0.0                          0.0   \n",
              "3                          0.0                          0.0   \n",
              "4                          0.0                          0.0   \n",
              "\n",
              "   item_category_name_tfidf_20  item_category_name_tfidf_21  \\\n",
              "0                          0.0                          0.0   \n",
              "1                          0.0                          0.0   \n",
              "2                          0.0                          0.0   \n",
              "3                          0.0                          0.0   \n",
              "4                          0.0                          0.0   \n",
              "\n",
              "   item_category_name_tfidf_22  item_category_name_tfidf_23  \\\n",
              "0                          0.0                          0.0   \n",
              "1                          0.0                          0.0   \n",
              "2                          0.0                          0.0   \n",
              "3                          0.0                          0.0   \n",
              "4                          0.0                          0.0   \n",
              "\n",
              "   item_category_name_tfidf_24  \n",
              "0                          0.0  \n",
              "1                          0.0  \n",
              "2                          0.0  \n",
              "3                          0.0  \n",
              "4                          0.0  "
            ]
          },
          "metadata": {},
          "execution_count": 17
        }
      ]
    },
    {
      "cell_type": "code",
      "metadata": {
        "id": "zwXeVq68Tlpb",
        "colab": {
          "base_uri": "https://localhost:8080/",
          "height": 226
        },
        "outputId": "6cf2cc40-5d8e-4ce8-d054-d82a793ef3fd"
      },
      "source": [
        "#Text Features\n",
        "feature_cnt = 25\n",
        "tfidf = feature_extraction.text.TfidfVectorizer(max_features=feature_cnt)\n",
        "shops['shop_name_len'] = shops['shop_name'].map(len)  #Lenth of Shop Name\n",
        "shops['shop_name_wc'] = shops['shop_name'].map(lambda x: len(str(x).split(' '))) #Shop Name Word Count\n",
        "txtFeatures = pd.DataFrame(tfidf.fit_transform(shops['shop_name']).toarray())\n",
        "cols = txtFeatures.columns\n",
        "for i in range(feature_cnt):\n",
        "    shops['shop_name_tfidf_' + str(i)] = txtFeatures[cols[i]]\n",
        "shops.drop(columns='shop_name', inplace=True)\n",
        "shops.head()"
      ],
      "execution_count": null,
      "outputs": [
        {
          "output_type": "execute_result",
          "data": {
            "text/html": [
              "<div>\n",
              "<style scoped>\n",
              "    .dataframe tbody tr th:only-of-type {\n",
              "        vertical-align: middle;\n",
              "    }\n",
              "\n",
              "    .dataframe tbody tr th {\n",
              "        vertical-align: top;\n",
              "    }\n",
              "\n",
              "    .dataframe thead th {\n",
              "        text-align: right;\n",
              "    }\n",
              "</style>\n",
              "<table border=\"1\" class=\"dataframe\">\n",
              "  <thead>\n",
              "    <tr style=\"text-align: right;\">\n",
              "      <th></th>\n",
              "      <th>shop_id</th>\n",
              "      <th>shop_name_len</th>\n",
              "      <th>shop_name_wc</th>\n",
              "      <th>shop_name_tfidf_0</th>\n",
              "      <th>shop_name_tfidf_1</th>\n",
              "      <th>shop_name_tfidf_2</th>\n",
              "      <th>shop_name_tfidf_3</th>\n",
              "      <th>shop_name_tfidf_4</th>\n",
              "      <th>shop_name_tfidf_5</th>\n",
              "      <th>shop_name_tfidf_6</th>\n",
              "      <th>shop_name_tfidf_7</th>\n",
              "      <th>shop_name_tfidf_8</th>\n",
              "      <th>shop_name_tfidf_9</th>\n",
              "      <th>shop_name_tfidf_10</th>\n",
              "      <th>shop_name_tfidf_11</th>\n",
              "      <th>shop_name_tfidf_12</th>\n",
              "      <th>shop_name_tfidf_13</th>\n",
              "      <th>shop_name_tfidf_14</th>\n",
              "      <th>shop_name_tfidf_15</th>\n",
              "      <th>shop_name_tfidf_16</th>\n",
              "      <th>shop_name_tfidf_17</th>\n",
              "      <th>shop_name_tfidf_18</th>\n",
              "      <th>shop_name_tfidf_19</th>\n",
              "      <th>shop_name_tfidf_20</th>\n",
              "      <th>shop_name_tfidf_21</th>\n",
              "      <th>shop_name_tfidf_22</th>\n",
              "      <th>shop_name_tfidf_23</th>\n",
              "      <th>shop_name_tfidf_24</th>\n",
              "    </tr>\n",
              "  </thead>\n",
              "  <tbody>\n",
              "    <tr>\n",
              "      <th>0</th>\n",
              "      <td>0</td>\n",
              "      <td>29</td>\n",
              "      <td>4</td>\n",
              "      <td>0.0</td>\n",
              "      <td>0.0</td>\n",
              "      <td>0.0</td>\n",
              "      <td>0.0</td>\n",
              "      <td>0.0</td>\n",
              "      <td>0.0</td>\n",
              "      <td>0.0</td>\n",
              "      <td>0.0</td>\n",
              "      <td>0.000000</td>\n",
              "      <td>0.000000</td>\n",
              "      <td>0.0</td>\n",
              "      <td>0.0</td>\n",
              "      <td>0.0</td>\n",
              "      <td>0.0</td>\n",
              "      <td>0.0</td>\n",
              "      <td>0.0</td>\n",
              "      <td>0.0</td>\n",
              "      <td>0.0</td>\n",
              "      <td>0.0</td>\n",
              "      <td>0.0</td>\n",
              "      <td>0.0</td>\n",
              "      <td>0.000000</td>\n",
              "      <td>0.0</td>\n",
              "      <td>0.000000</td>\n",
              "      <td>1.000000</td>\n",
              "    </tr>\n",
              "    <tr>\n",
              "      <th>1</th>\n",
              "      <td>1</td>\n",
              "      <td>29</td>\n",
              "      <td>4</td>\n",
              "      <td>0.0</td>\n",
              "      <td>0.0</td>\n",
              "      <td>0.0</td>\n",
              "      <td>0.0</td>\n",
              "      <td>0.0</td>\n",
              "      <td>0.0</td>\n",
              "      <td>0.0</td>\n",
              "      <td>0.0</td>\n",
              "      <td>0.000000</td>\n",
              "      <td>0.000000</td>\n",
              "      <td>0.0</td>\n",
              "      <td>0.0</td>\n",
              "      <td>0.0</td>\n",
              "      <td>0.0</td>\n",
              "      <td>0.0</td>\n",
              "      <td>0.0</td>\n",
              "      <td>0.0</td>\n",
              "      <td>0.0</td>\n",
              "      <td>0.0</td>\n",
              "      <td>0.0</td>\n",
              "      <td>0.0</td>\n",
              "      <td>0.322815</td>\n",
              "      <td>0.0</td>\n",
              "      <td>0.689588</td>\n",
              "      <td>0.648274</td>\n",
              "    </tr>\n",
              "    <tr>\n",
              "      <th>2</th>\n",
              "      <td>2</td>\n",
              "      <td>16</td>\n",
              "      <td>3</td>\n",
              "      <td>0.0</td>\n",
              "      <td>0.0</td>\n",
              "      <td>0.0</td>\n",
              "      <td>0.0</td>\n",
              "      <td>0.0</td>\n",
              "      <td>0.0</td>\n",
              "      <td>0.0</td>\n",
              "      <td>0.0</td>\n",
              "      <td>0.866844</td>\n",
              "      <td>0.000000</td>\n",
              "      <td>0.0</td>\n",
              "      <td>0.0</td>\n",
              "      <td>0.0</td>\n",
              "      <td>0.0</td>\n",
              "      <td>0.0</td>\n",
              "      <td>0.0</td>\n",
              "      <td>0.0</td>\n",
              "      <td>0.0</td>\n",
              "      <td>0.0</td>\n",
              "      <td>0.0</td>\n",
              "      <td>0.0</td>\n",
              "      <td>0.498580</td>\n",
              "      <td>0.0</td>\n",
              "      <td>0.000000</td>\n",
              "      <td>0.000000</td>\n",
              "    </tr>\n",
              "    <tr>\n",
              "      <th>3</th>\n",
              "      <td>3</td>\n",
              "      <td>30</td>\n",
              "      <td>3</td>\n",
              "      <td>0.0</td>\n",
              "      <td>0.0</td>\n",
              "      <td>0.0</td>\n",
              "      <td>0.0</td>\n",
              "      <td>0.0</td>\n",
              "      <td>0.0</td>\n",
              "      <td>0.0</td>\n",
              "      <td>0.0</td>\n",
              "      <td>0.000000</td>\n",
              "      <td>0.000000</td>\n",
              "      <td>0.0</td>\n",
              "      <td>0.0</td>\n",
              "      <td>0.0</td>\n",
              "      <td>0.0</td>\n",
              "      <td>0.0</td>\n",
              "      <td>0.0</td>\n",
              "      <td>0.0</td>\n",
              "      <td>0.0</td>\n",
              "      <td>0.0</td>\n",
              "      <td>1.0</td>\n",
              "      <td>0.0</td>\n",
              "      <td>0.000000</td>\n",
              "      <td>0.0</td>\n",
              "      <td>0.000000</td>\n",
              "      <td>0.000000</td>\n",
              "    </tr>\n",
              "    <tr>\n",
              "      <th>4</th>\n",
              "      <td>4</td>\n",
              "      <td>24</td>\n",
              "      <td>4</td>\n",
              "      <td>0.0</td>\n",
              "      <td>0.0</td>\n",
              "      <td>0.0</td>\n",
              "      <td>0.0</td>\n",
              "      <td>0.0</td>\n",
              "      <td>0.0</td>\n",
              "      <td>0.0</td>\n",
              "      <td>0.0</td>\n",
              "      <td>0.000000</td>\n",
              "      <td>0.905675</td>\n",
              "      <td>0.0</td>\n",
              "      <td>0.0</td>\n",
              "      <td>0.0</td>\n",
              "      <td>0.0</td>\n",
              "      <td>0.0</td>\n",
              "      <td>0.0</td>\n",
              "      <td>0.0</td>\n",
              "      <td>0.0</td>\n",
              "      <td>0.0</td>\n",
              "      <td>0.0</td>\n",
              "      <td>0.0</td>\n",
              "      <td>0.423972</td>\n",
              "      <td>0.0</td>\n",
              "      <td>0.000000</td>\n",
              "      <td>0.000000</td>\n",
              "    </tr>\n",
              "  </tbody>\n",
              "</table>\n",
              "</div>"
            ],
            "text/plain": [
              "   shop_id  shop_name_len  shop_name_wc  shop_name_tfidf_0  shop_name_tfidf_1  \\\n",
              "0        0             29             4                0.0                0.0   \n",
              "1        1             29             4                0.0                0.0   \n",
              "2        2             16             3                0.0                0.0   \n",
              "3        3             30             3                0.0                0.0   \n",
              "4        4             24             4                0.0                0.0   \n",
              "\n",
              "   shop_name_tfidf_2  shop_name_tfidf_3  shop_name_tfidf_4  shop_name_tfidf_5  \\\n",
              "0                0.0                0.0                0.0                0.0   \n",
              "1                0.0                0.0                0.0                0.0   \n",
              "2                0.0                0.0                0.0                0.0   \n",
              "3                0.0                0.0                0.0                0.0   \n",
              "4                0.0                0.0                0.0                0.0   \n",
              "\n",
              "   shop_name_tfidf_6  shop_name_tfidf_7  shop_name_tfidf_8  shop_name_tfidf_9  \\\n",
              "0                0.0                0.0           0.000000           0.000000   \n",
              "1                0.0                0.0           0.000000           0.000000   \n",
              "2                0.0                0.0           0.866844           0.000000   \n",
              "3                0.0                0.0           0.000000           0.000000   \n",
              "4                0.0                0.0           0.000000           0.905675   \n",
              "\n",
              "   shop_name_tfidf_10  shop_name_tfidf_11  shop_name_tfidf_12  \\\n",
              "0                 0.0                 0.0                 0.0   \n",
              "1                 0.0                 0.0                 0.0   \n",
              "2                 0.0                 0.0                 0.0   \n",
              "3                 0.0                 0.0                 0.0   \n",
              "4                 0.0                 0.0                 0.0   \n",
              "\n",
              "   shop_name_tfidf_13  shop_name_tfidf_14  shop_name_tfidf_15  \\\n",
              "0                 0.0                 0.0                 0.0   \n",
              "1                 0.0                 0.0                 0.0   \n",
              "2                 0.0                 0.0                 0.0   \n",
              "3                 0.0                 0.0                 0.0   \n",
              "4                 0.0                 0.0                 0.0   \n",
              "\n",
              "   shop_name_tfidf_16  shop_name_tfidf_17  shop_name_tfidf_18  \\\n",
              "0                 0.0                 0.0                 0.0   \n",
              "1                 0.0                 0.0                 0.0   \n",
              "2                 0.0                 0.0                 0.0   \n",
              "3                 0.0                 0.0                 0.0   \n",
              "4                 0.0                 0.0                 0.0   \n",
              "\n",
              "   shop_name_tfidf_19  shop_name_tfidf_20  shop_name_tfidf_21  \\\n",
              "0                 0.0                 0.0            0.000000   \n",
              "1                 0.0                 0.0            0.322815   \n",
              "2                 0.0                 0.0            0.498580   \n",
              "3                 1.0                 0.0            0.000000   \n",
              "4                 0.0                 0.0            0.423972   \n",
              "\n",
              "   shop_name_tfidf_22  shop_name_tfidf_23  shop_name_tfidf_24  \n",
              "0                 0.0            0.000000            1.000000  \n",
              "1                 0.0            0.689588            0.648274  \n",
              "2                 0.0            0.000000            0.000000  \n",
              "3                 0.0            0.000000            0.000000  \n",
              "4                 0.0            0.000000            0.000000  "
            ]
          },
          "metadata": {},
          "execution_count": 18
        }
      ]
    },
    {
      "cell_type": "code",
      "metadata": {
        "id": "ZK9z1UYMTohi"
      },
      "source": [
        "# Items features\n",
        "all_data = pd.merge(all_data, items, how='left', on='item_id')\n",
        "# Item Category features\n",
        "all_data = pd.merge(all_data, item_cats, how='left', on='item_category_id')\n",
        "#Shops features\n",
        "all_data = pd.merge(all_data, shops, how='left', on='shop_id')\n",
        "all_data = downcast_dtypes(all_data)\n",
        "all_data.head()"
      ],
      "execution_count": null,
      "outputs": []
    },
    {
      "cell_type": "markdown",
      "metadata": {
        "id": "0hNa9Q2ohFJL"
      },
      "source": [
        "# Modelling"
      ]
    },
    {
      "cell_type": "markdown",
      "metadata": {
        "id": "uJTFMJBxNVuw"
      },
      "source": [
        "## Train/test split "
      ]
    },
    {
      "cell_type": "code",
      "metadata": {
        "id": "R9vhNka7NTPE",
        "colab": {
          "base_uri": "https://localhost:8080/"
        },
        "outputId": "3942a1aa-065e-4285-978c-1b3eaefc3155"
      },
      "source": [
        "# Save `date_block_num`, as we can't use them as features, but will need them to split the dataset into parts \n",
        "dates = all_data['date_block_num']\n",
        "\n",
        "last_block = dates.max()\n",
        "print('Test `date_block_num` is %d' % last_block)"
      ],
      "execution_count": null,
      "outputs": [
        {
          "output_type": "stream",
          "name": "stdout",
          "text": [
            "Test `date_block_num` is 34\n"
          ]
        }
      ]
    },
    {
      "cell_type": "code",
      "metadata": {
        "id": "PVb6c0_xNU_e"
      },
      "source": [
        "dates_train = dates[dates <  last_block]\n",
        "dates_test  = dates[dates == last_block]\n",
        "\n",
        "X_train = all_data.loc[dates <  last_block].drop(to_drop_cols, axis=1)\n",
        "X_test =  all_data.loc[dates == last_block].drop(to_drop_cols, axis=1)\n",
        "\n",
        "y_train = all_data.loc[dates <  last_block, 'target'].values\n",
        "y_test =  all_data.loc[dates == last_block, 'target'].values"
      ],
      "execution_count": null,
      "outputs": []
    },
    {
      "cell_type": "markdown",
      "metadata": {
        "id": "LIPBZS-aNa4S"
      },
      "source": [
        "## Single model"
      ]
    },
    {
      "cell_type": "code",
      "metadata": {
        "id": "xnmqm1SuNcza"
      },
      "source": [
        "lr = LinearRegression()\n",
        "lr.fit(X_train.values, y_train)\n",
        "pred_lr = lr.predict(X_test.values)"
      ],
      "execution_count": 48,
      "outputs": []
    },
    {
      "cell_type": "code",
      "metadata": {
        "id": "RsKKAw0-Nebb"
      },
      "source": [
        "lgb_params = {\n",
        "               'feature_fraction': 0.75,\n",
        "               'metric': 'rmse',\n",
        "               'nthread':1, \n",
        "               'min_data_in_leaf': 2**7, \n",
        "               'bagging_fraction': 0.75, \n",
        "               'learning_rate': 0.03, \n",
        "               'objective': 'mse', \n",
        "               'bagging_seed': 2**7, \n",
        "               'num_leaves': 2**7,\n",
        "               'bagging_freq':1,\n",
        "               'verbose':0 \n",
        "              }\n",
        "\n",
        "model = lgb.train(lgb_params, lgb.Dataset(X_train, label=y_train), 100)\n",
        "pred_lgb = model.predict(X_test)"
      ],
      "execution_count": 49,
      "outputs": []
    },
    {
      "cell_type": "code",
      "metadata": {
        "id": "ACV8MIryNfzJ"
      },
      "source": [
        "X_test_level2 = np.c_[pred_lr, pred_lgb] "
      ],
      "execution_count": null,
      "outputs": []
    },
    {
      "cell_type": "markdown",
      "metadata": {
        "id": "2VFLdHdrR7GS"
      },
      "source": [
        "## Prepare for ensemble"
      ]
    },
    {
      "cell_type": "code",
      "metadata": {
        "id": "trjlZknnNhg5"
      },
      "source": [
        "dates_train_level2 = dates_train[dates_train.isin([27, 28, 29, 30, 31, 32, 33])]\n",
        "\n",
        "# That is how we get target for the 2nd level dataset\n",
        "y_train_level2 = y_train[dates_train.isin([27, 28, 29, 30, 31, 32, 33])]"
      ],
      "execution_count": null,
      "outputs": []
    },
    {
      "cell_type": "code",
      "metadata": {
        "id": "1P1bj4J5NjEu"
      },
      "source": [
        "# And here we create 2nd level feeature matrix, init it with zeros first\n",
        "X_train_level2 = np.zeros([y_train_level2.shape[0], 2])\n",
        "\n",
        "# Now fill `X_train_level2` with metafeatures\n",
        "for cur_block_num in [27, 28, 29, 30, 31, 32, 33]:\n",
        "    print(cur_block_num)\n",
        "    \n",
        "    '''\n",
        "        1. Split `X_train` into parts\n",
        "           Remember, that corresponding dates are stored in `dates_train` \n",
        "        2. Fit linear regression \n",
        "        3. Fit LightGBM and put predictions          \n",
        "        4. Store predictions from 2. and 3. in the right place of `X_train_level2`. \n",
        "           You can use `dates_train_level2` for it\n",
        "           Make sure the order of the meta-features is the same as in `X_test_level2`\n",
        "    '''      \n",
        "    # Split parts\n",
        "    _X_train = all_data.loc[dates <  cur_block_num].drop(to_drop_cols, axis=1)\n",
        "    _X_test =  all_data.loc[dates == cur_block_num].drop(to_drop_cols, axis=1)\n",
        "\n",
        "    _y_train = all_data.loc[dates <  cur_block_num, 'target'].values\n",
        "    _y_test =  all_data.loc[dates == cur_block_num, 'target'].values\n",
        "    \n",
        "    # Fit linear regression \n",
        "    lr.fit(_X_train.values, _y_train)\n",
        "    X_train_level2[dates_train_level2 == cur_block_num, 0] = lr.predict(_X_test.values)\n",
        "    \n",
        "    # Fit LGBM\n",
        "    model = lgb.train(lgb_params, lgb.Dataset(_X_train, label=_y_train), 100)\n",
        "    X_train_level2[dates_train_level2 == cur_block_num, 1] = model.predict(_X_test)"
      ],
      "execution_count": 50,
      "outputs": []
    },
    {
      "cell_type": "markdown",
      "metadata": {
        "id": "c_74f-56NnWx"
      },
      "source": [
        "## Ensemble"
      ]
    },
    {
      "cell_type": "code",
      "metadata": {
        "id": "ajIbNU6HNoRc"
      },
      "source": [
        "alphas_to_try = np.linspace(0, 1, 1001)\n",
        "\n",
        "r2_score_list = np.array([r2_score(y_train_level2, np.dot(X_train_level2, [alpha, 1 - alpha])) for alpha in alphas_to_try])\n",
        "best_alpha = alphas_to_try[r2_score_list.argmax()]"
      ],
      "execution_count": null,
      "outputs": []
    },
    {
      "cell_type": "code",
      "metadata": {
        "id": "2-mAzAdyNp_c"
      },
      "source": [
        "test_preds = best_alpha * pred_lr + (1-best_alpha) * pred_lgb\n",
        "\n",
        "test['item_cnt_month'] = test_preds\n",
        "test[['ID', 'item_cnt_month']].to_csv('/content/drive/MyDrive/submission_averaging.csv', index=False)"
      ],
      "execution_count": null,
      "outputs": []
    },
    {
      "cell_type": "code",
      "metadata": {
        "id": "ol_fbDUzNqkL"
      },
      "source": [
        "lr.fit(X_train_level2, y_train_level2)"
      ],
      "execution_count": 52,
      "outputs": []
    },
    {
      "cell_type": "code",
      "metadata": {
        "id": "a-_5mGp1Ns5P"
      },
      "source": [
        "test_preds = lr.predict(np.vstack((pred_lr, pred_lgb)).T)\n",
        "\n",
        "test['item_cnt_month'] = test_preds\n",
        "test[['ID', 'item_cnt_month']].to_csv('/content/drive/MyDrive/submission_stacking.csv', index=False)"
      ],
      "execution_count": 51,
      "outputs": []
    },
    {
      "cell_type": "code",
      "metadata": {
        "id": "6WojSv1l1Wv4"
      },
      "source": [
        ""
      ],
      "execution_count": null,
      "outputs": []
    }
  ]
}
